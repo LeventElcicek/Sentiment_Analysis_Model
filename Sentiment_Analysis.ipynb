{
 "cells": [
  {
   "cell_type": "code",
   "execution_count": 1,
   "id": "4f6914e7-3a34-434e-9ac3-8dd1d0fa5a13",
   "metadata": {},
   "outputs": [],
   "source": [
    "import pandas as pd\n",
    "import numpy as np\n",
    "from tensorflow.keras.models import Sequential\n",
    "from tensorflow.keras.layers import Dense, GRU, Embedding\n",
    "from tensorflow.keras.preprocessing.text import Tokenizer\n",
    "from tensorflow.keras.preprocessing.sequence import pad_sequences"
   ]
  },
  {
   "cell_type": "code",
   "execution_count": 2,
   "id": "1590cbe2-da07-4b7f-b088-9aea3efa10ef",
   "metadata": {},
   "outputs": [],
   "source": [
    "text=\"C:/Users/levent/OneDrive/Masaüstü/Doğal+Dil+İşleme+Kodlar/Hakan Cebeci - Doğal Dil İşleme/4- Sentiment Analysis/hepsiburada.csv\""
   ]
  },
  {
   "cell_type": "code",
   "execution_count": 3,
   "id": "4f08b1d4-8917-496b-a988-d40cdabbcf1b",
   "metadata": {},
   "outputs": [],
   "source": [
    "dataset= pd.read_csv(text)"
   ]
  },
  {
   "cell_type": "code",
   "execution_count": 4,
   "id": "7437c7da-4af5-4cbb-9234-77d62f3c46a0",
   "metadata": {},
   "outputs": [
    {
     "data": {
      "text/html": [
       "<div>\n",
       "<style scoped>\n",
       "    .dataframe tbody tr th:only-of-type {\n",
       "        vertical-align: middle;\n",
       "    }\n",
       "\n",
       "    .dataframe tbody tr th {\n",
       "        vertical-align: top;\n",
       "    }\n",
       "\n",
       "    .dataframe thead th {\n",
       "        text-align: right;\n",
       "    }\n",
       "</style>\n",
       "<table border=\"1\" class=\"dataframe\">\n",
       "  <thead>\n",
       "    <tr style=\"text-align: right;\">\n",
       "      <th></th>\n",
       "      <th>Rating</th>\n",
       "      <th>Review</th>\n",
       "    </tr>\n",
       "  </thead>\n",
       "  <tbody>\n",
       "    <tr>\n",
       "      <th>0</th>\n",
       "      <td>1</td>\n",
       "      <td>3 yıldır tık demedi. :)</td>\n",
       "    </tr>\n",
       "    <tr>\n",
       "      <th>1</th>\n",
       "      <td>1</td>\n",
       "      <td>3 yıldır kullanıyorum müthiş</td>\n",
       "    </tr>\n",
       "    <tr>\n",
       "      <th>2</th>\n",
       "      <td>1</td>\n",
       "      <td>Ürün bugün elime geçti çok fazla inceleme fırs...</td>\n",
       "    </tr>\n",
       "    <tr>\n",
       "      <th>3</th>\n",
       "      <td>1</td>\n",
       "      <td>Almaya karar verdim. Hemencecik geldi. Keyifle...</td>\n",
       "    </tr>\n",
       "    <tr>\n",
       "      <th>4</th>\n",
       "      <td>1</td>\n",
       "      <td>Günlük kullanımınızı çok çok iyi karsılıyor kı...</td>\n",
       "    </tr>\n",
       "    <tr>\n",
       "      <th>...</th>\n",
       "      <td>...</td>\n",
       "      <td>...</td>\n",
       "    </tr>\n",
       "    <tr>\n",
       "      <th>243492</th>\n",
       "      <td>1</td>\n",
       "      <td>fiyatına göre güzel</td>\n",
       "    </tr>\n",
       "    <tr>\n",
       "      <th>243493</th>\n",
       "      <td>1</td>\n",
       "      <td>Ürün kullanışlı iş görüyor fazlasıyla eşime al...</td>\n",
       "    </tr>\n",
       "    <tr>\n",
       "      <th>243494</th>\n",
       "      <td>1</td>\n",
       "      <td>Hızlı Kargo, güzel ürün</td>\n",
       "    </tr>\n",
       "    <tr>\n",
       "      <th>243495</th>\n",
       "      <td>1</td>\n",
       "      <td>telefon başarılı hızlı bir cihaz  sadece beyaz...</td>\n",
       "    </tr>\n",
       "    <tr>\n",
       "      <th>243496</th>\n",
       "      <td>1</td>\n",
       "      <td>Urun cok guzel pazar gunu siparis verdim adana...</td>\n",
       "    </tr>\n",
       "  </tbody>\n",
       "</table>\n",
       "<p>243497 rows × 2 columns</p>\n",
       "</div>"
      ],
      "text/plain": [
       "        Rating                                             Review\n",
       "0            1                            3 yıldır tık demedi. :)\n",
       "1            1                      3 yıldır kullanıyorum müthiş \n",
       "2            1  Ürün bugün elime geçti çok fazla inceleme fırs...\n",
       "3            1  Almaya karar verdim. Hemencecik geldi. Keyifle...\n",
       "4            1  Günlük kullanımınızı çok çok iyi karsılıyor kı...\n",
       "...        ...                                                ...\n",
       "243492       1                                fiyatına göre güzel\n",
       "243493       1  Ürün kullanışlı iş görüyor fazlasıyla eşime al...\n",
       "243494       1                            Hızlı Kargo, güzel ürün\n",
       "243495       1  telefon başarılı hızlı bir cihaz  sadece beyaz...\n",
       "243496       1  Urun cok guzel pazar gunu siparis verdim adana...\n",
       "\n",
       "[243497 rows x 2 columns]"
      ]
     },
     "execution_count": 4,
     "metadata": {},
     "output_type": "execute_result"
    }
   ],
   "source": [
    "dataset"
   ]
  },
  {
   "cell_type": "code",
   "execution_count": 5,
   "id": "60628166-d3e1-4612-9249-0d045d27c151",
   "metadata": {},
   "outputs": [],
   "source": [
    "#Dataframe formatındaki verilerin trating ve Review kolonları alındı ve liste formatına dönüştürüldü\n",
    "\n",
    "target = dataset['Rating'].values.tolist()\n",
    "data = dataset['Review'].values.tolist()"
   ]
  },
  {
   "cell_type": "code",
   "execution_count": 6,
   "id": "4c5bf338-8fca-4c70-ad8b-667564ea299a",
   "metadata": {},
   "outputs": [],
   "source": [
    "cutoff=int(len(dataset)*0.8)"
   ]
  },
  {
   "cell_type": "code",
   "execution_count": 7,
   "id": "ac985670-4f00-4ed6-aa38-1d6dff45d0d7",
   "metadata": {},
   "outputs": [],
   "source": [
    "#veriler %80 oranında train, %20 oranında test olarak ayrıldı ve bu ayrılma hem data hemde etiket kolonlarına uygulandı.\n",
    "x_train, x_test = data[:cutoff], data[cutoff:]\n",
    "y_train, y_test = target[:cutoff], target[cutoff:]"
   ]
  },
  {
   "cell_type": "code",
   "execution_count": 8,
   "id": "40290699-67ec-4f37-ac41-353ae00ddfb3",
   "metadata": {},
   "outputs": [
    {
     "data": {
      "text/plain": [
       "'Hoş ve kaliteli bir mouse. Leptopla kullanım için mükemmel boyutlarda. Umarım uzun süre bozulmaz.'"
      ]
     },
     "execution_count": 8,
     "metadata": {},
     "output_type": "execute_result"
    }
   ],
   "source": [
    "x_train[15]"
   ]
  },
  {
   "cell_type": "code",
   "execution_count": 9,
   "id": "29107173-0338-4324-ae82-7a4d071e4439",
   "metadata": {},
   "outputs": [],
   "source": [
    "#Oluşturulacak tokenleştirme işleminde en çok kullanılan 10000 kelimenin kullanılmasını istedik.\n",
    "num_words = 10000"
   ]
  },
  {
   "cell_type": "code",
   "execution_count": 10,
   "id": "87d07f1f-13e6-48d8-b689-c5f6a9e667e4",
   "metadata": {},
   "outputs": [],
   "source": [
    "tokenizer = Tokenizer(num_words=num_words)"
   ]
  },
  {
   "cell_type": "code",
   "execution_count": 11,
   "id": "f2041a3a-53e0-4f3d-b640-0e755d67af46",
   "metadata": {},
   "outputs": [],
   "source": [
    "#Oluşturulan tokenizer nesnesi ile yorumlar tokenlere ayrıldı\n",
    "tokenizer.fit_on_texts(data)"
   ]
  },
  {
   "cell_type": "code",
   "execution_count": 12,
   "id": "e012a09f-4f9d-46d6-a79e-614da25afa96",
   "metadata": {
    "scrolled": true
   },
   "outputs": [
    {
     "data": {
      "text/plain": [
       "{'çok': 1,\n",
       " 'bir': 2,\n",
       " 've': 3,\n",
       " 'ürün': 4,\n",
       " 'bu': 5,\n",
       " 'iyi': 6,\n",
       " 'güzel': 7,\n",
       " 'için': 8,\n",
       " 'tavsiye': 9,\n",
       " 'ederim': 10,\n",
       " 'daha': 11,\n",
       " 'ama': 12,\n",
       " 'da': 13,\n",
       " 'gayet': 14,\n",
       " 'hızlı': 15,\n",
       " 'teşekkürler': 16,\n",
       " 'aldım': 17,\n",
       " 'de': 18,\n",
       " 'ürünü': 19,\n",
       " 'gibi': 20,\n",
       " 'yok': 21,\n",
       " 'uygun': 22,\n",
       " 'olarak': 23,\n",
       " 'kaliteli': 24,\n",
       " 'en': 25,\n",
       " '2': 26,\n",
       " 'kargo': 27,\n",
       " 'fiyat': 28,\n",
       " 'elime': 29,\n",
       " 'kadar': 30,\n",
       " 'ile': 31,\n",
       " 'göre': 32,\n",
       " 'geldi': 33,\n",
       " 'var': 34,\n",
       " 'hepsiburada': 35,\n",
       " 'ben': 36,\n",
       " 'gerçekten': 37,\n",
       " '1': 38,\n",
       " 'fiyata': 39,\n",
       " 'gün': 40,\n",
       " 'sonra': 41,\n",
       " 'cok': 42,\n",
       " 'kesinlikle': 43,\n",
       " 'telefon': 44,\n",
       " 'biraz': 45,\n",
       " 'hiç': 46,\n",
       " 'ulaştı': 47,\n",
       " 'memnun': 48,\n",
       " 'hem': 49,\n",
       " 'değil': 50,\n",
       " 'kullanışlı': 51,\n",
       " '3': 52,\n",
       " 'mükemmel': 53,\n",
       " 'oldu': 54,\n",
       " 'kullanıyorum': 55,\n",
       " 'önce': 56,\n",
       " 'sipariş': 57,\n",
       " 'tek': 58,\n",
       " 'her': 59,\n",
       " 'bence': 60,\n",
       " 'harika': 61,\n",
       " 'kalitesi': 62,\n",
       " 'bi': 63,\n",
       " 'ayrıca': 64,\n",
       " '5': 65,\n",
       " 'teşekkür': 66,\n",
       " 'fiyatı': 67,\n",
       " 'olması': 68,\n",
       " 'ne': 69,\n",
       " 'herkese': 70,\n",
       " 'bile': 71,\n",
       " 'uzun': 72,\n",
       " 'süper': 73,\n",
       " 'tam': 74,\n",
       " 'zaten': 75,\n",
       " 'fazla': 76,\n",
       " 'ilk': 77,\n",
       " 'o': 78,\n",
       " 'başarılı': 79,\n",
       " 'fakat': 80,\n",
       " 'memnunum': 81,\n",
       " 'ancak': 82,\n",
       " 'ediyorum': 83,\n",
       " 'şarj': 84,\n",
       " 'saat': 85,\n",
       " 'fiyatına': 86,\n",
       " 'oldukça': 87,\n",
       " 'hemen': 88,\n",
       " 'şekilde': 89,\n",
       " 'ses': 90,\n",
       " 'hepsi': 91,\n",
       " 'gerek': 92,\n",
       " 'rahat': 93,\n",
       " 'aynı': 94,\n",
       " '4': 95,\n",
       " 'şık': 96,\n",
       " 'verdim': 97,\n",
       " 'kolay': 98,\n",
       " 'diye': 99,\n",
       " 'ki': 100,\n",
       " 'sadece': 101,\n",
       " 'kaldım': 102,\n",
       " 'diğer': 103,\n",
       " 'büyük': 104,\n",
       " 'sorun': 105,\n",
       " 'alın': 106,\n",
       " 'burada': 107,\n",
       " 'kısa': 108,\n",
       " 'ürünün': 109,\n",
       " 'sorunsuz': 110,\n",
       " 'performans': 111,\n",
       " 'içinde': 112,\n",
       " 'olan': 113,\n",
       " 'günde': 114,\n",
       " 'olsun': 115,\n",
       " 'küçük': 116,\n",
       " 'urun': 117,\n",
       " '10': 118,\n",
       " 'benim': 119,\n",
       " 'başka': 120,\n",
       " 'iki': 121,\n",
       " 'olduğu': 122,\n",
       " 'teslimat': 123,\n",
       " 'com': 124,\n",
       " 'arkadaşlar': 125,\n",
       " 'sağlam': 126,\n",
       " 'oluyor': 127,\n",
       " 'teslim': 128,\n",
       " 'ettim': 129,\n",
       " 'zaman': 130,\n",
       " 'kalite': 131,\n",
       " 'almak': 132,\n",
       " 'az': 133,\n",
       " 'telefonu': 134,\n",
       " 'yeni': 135,\n",
       " 'cihaz': 136,\n",
       " 'marka': 137,\n",
       " 'son': 138,\n",
       " 'koku': 139,\n",
       " 'ise': 140,\n",
       " 'kullandım': 141,\n",
       " 'kokusu': 142,\n",
       " 'derim': 143,\n",
       " 'olduğunu': 144,\n",
       " 'özellikle': 145,\n",
       " 'beğendim': 146,\n",
       " 'sıkıntı': 147,\n",
       " 'ucuz': 148,\n",
       " 'rağmen': 149,\n",
       " 'geçti': 150,\n",
       " 'geliyor': 151,\n",
       " 'guzel': 152,\n",
       " 'bana': 153,\n",
       " 'ya': 154,\n",
       " 'ideal': 155,\n",
       " 'orjinal': 156,\n",
       " 'almıştım': 157,\n",
       " 'yeterli': 158,\n",
       " 'tane': 159,\n",
       " 'hediye': 160,\n",
       " 'sürede': 161,\n",
       " 'yani': 162,\n",
       " 'normal': 163,\n",
       " 'yaklaşık': 164,\n",
       " 'ediyor': 165,\n",
       " 'hafif': 166,\n",
       " 'bunu': 167,\n",
       " 'ekran': 168,\n",
       " 'aldığım': 169,\n",
       " 'veriyor': 170,\n",
       " '6': 171,\n",
       " 'yüksek': 172,\n",
       " 'tüm': 173,\n",
       " 'pişman': 174,\n",
       " 'tercih': 175,\n",
       " 'düşünmeden': 176,\n",
       " 'kötü': 177,\n",
       " 'düşünüyorum': 178,\n",
       " 'numara': 179,\n",
       " 'bi̇r': 180,\n",
       " 'süre': 181,\n",
       " 'kullanımı': 182,\n",
       " 'çıktı': 183,\n",
       " 'günü': 184,\n",
       " 'su': 185,\n",
       " 'adet': 186,\n",
       " 'şey': 187,\n",
       " 'hemde': 188,\n",
       " 'icin': 189,\n",
       " 'hizli': 190,\n",
       " 'çalışıyor': 191,\n",
       " 'ay': 192,\n",
       " 'hb': 193,\n",
       " 'hafta': 194,\n",
       " 'sesi': 195,\n",
       " 'alışveriş': 196,\n",
       " 'farklı': 197,\n",
       " 'kitap': 198,\n",
       " 'yine': 199,\n",
       " 'böyle': 200,\n",
       " 'zor': 201,\n",
       " 'alabilirsiniz': 202,\n",
       " 'hızı': 203,\n",
       " 'çünkü': 204,\n",
       " 'para': 205,\n",
       " 'ertesi': 206,\n",
       " 'bende': 207,\n",
       " 'kullanım': 208,\n",
       " 'sürekli': 209,\n",
       " 'duruyor': 210,\n",
       " 'aldim': 211,\n",
       " 'olur': 212,\n",
       " 'hoş': 213,\n",
       " 'artık': 214,\n",
       " 'yapıyor': 215,\n",
       " 'konusunda': 216,\n",
       " 'yorumlara': 217,\n",
       " 'gönderi': 218,\n",
       " 'olsa': 219,\n",
       " 'gücü': 220,\n",
       " 'şu': 221,\n",
       " 'vardı': 222,\n",
       " 'üründen': 223,\n",
       " 'malzeme': 224,\n",
       " 'biri': 225,\n",
       " 'pratik': 226,\n",
       " 'dışında': 227,\n",
       " 'defa': 228,\n",
       " 'kullandığım': 229,\n",
       " 'şimdi': 230,\n",
       " 'diş': 231,\n",
       " 'samsung': 232,\n",
       " 'onun': 233,\n",
       " 'bugün': 234,\n",
       " 'özelliği': 235,\n",
       " 'iş': 236,\n",
       " 'kurulumu': 237,\n",
       " 'tereddüt': 238,\n",
       " 'şarjı': 239,\n",
       " 'i̇lk': 240,\n",
       " '7': 241,\n",
       " 'ince': 242,\n",
       " 'gelen': 243,\n",
       " 'kullanmaya': 244,\n",
       " 'diyebilirim': 245,\n",
       " 'almayı': 246,\n",
       " 'pek': 247,\n",
       " 'aldık': 248,\n",
       " 'denedim': 249,\n",
       " '8': 250,\n",
       " 'tekrar': 251,\n",
       " 'çabuk': 252,\n",
       " 'karar': 253,\n",
       " 'kez': 254,\n",
       " 'sahip': 255,\n",
       " 'kendi': 256,\n",
       " 'basit': 257,\n",
       " 'dolayı': 258,\n",
       " 'derece': 259,\n",
       " 'veya': 260,\n",
       " 'kamera': 261,\n",
       " 'pil': 262,\n",
       " 'hiçbir': 263,\n",
       " 'öncelikle': 264,\n",
       " 'açısından': 265,\n",
       " 'iphone': 266,\n",
       " 'sonuç': 267,\n",
       " 'yanında': 268,\n",
       " 'sessiz': 269,\n",
       " 'pahalı': 270,\n",
       " 'işe': 271,\n",
       " 'gidiyor': 272,\n",
       " 'dan': 273,\n",
       " 'olmadı': 274,\n",
       " 'öyle': 275,\n",
       " 'tesekkurler': 276,\n",
       " 'bunun': 277,\n",
       " 'beni': 278,\n",
       " 'varsa': 279,\n",
       " 'yer': 280,\n",
       " 'gece': 281,\n",
       " 'zamanında': 282,\n",
       " 'yorum': 283,\n",
       " 'performansı': 284,\n",
       " 'parfüm': 285,\n",
       " 'evde': 286,\n",
       " 'belli': 287,\n",
       " 'eğer': 288,\n",
       " 'oyun': 289,\n",
       " 'ağır': 290,\n",
       " 'iyisi': 291,\n",
       " 'arada': 292,\n",
       " 'mutlaka': 293,\n",
       " 'zamanda': 294,\n",
       " 'usb': 295,\n",
       " 'ufak': 296,\n",
       " 'üzerinde': 297,\n",
       " 'hatta': 298,\n",
       " 'fark': 299,\n",
       " 'gönül': 300,\n",
       " 'paketleme': 301,\n",
       " 'eşim': 302,\n",
       " 'alacak': 303,\n",
       " '15': 304,\n",
       " 'gereken': 305,\n",
       " 'doğru': 306,\n",
       " 'eski': 307,\n",
       " 'herhangi': 308,\n",
       " 'aydır': 309,\n",
       " 'tl': 310,\n",
       " 'kalıcı': 311,\n",
       " 'rahatlıkla': 312,\n",
       " 'vs': 313,\n",
       " 'satın': 314,\n",
       " 'alınabilecek': 315,\n",
       " 'bundan': 316,\n",
       " 'farkı': 317,\n",
       " 'görüntü': 318,\n",
       " 'lazım': 319,\n",
       " 'gercekten': 320,\n",
       " 'şiddetle': 321,\n",
       " 'kullanmak': 322,\n",
       " 'kaçırmayın': 323,\n",
       " 'alırken': 324,\n",
       " 'kargoya': 325,\n",
       " 'yaşamadım': 326,\n",
       " 'mi': 327,\n",
       " 'yaptım': 328,\n",
       " 'prima': 329,\n",
       " 'birlikte': 330,\n",
       " 'gördüm': 331,\n",
       " 'gerekiyor': 332,\n",
       " 'telefonun': 333,\n",
       " 'ürünler': 334,\n",
       " 'ayrı': 335,\n",
       " 'önemli': 336,\n",
       " 'sayesinde': 337,\n",
       " 'bütün': 338,\n",
       " 'yıl': 339,\n",
       " 'gb': 340,\n",
       " 'alalı': 341,\n",
       " 'beklediğimden': 342,\n",
       " 'almaya': 343,\n",
       " 'yerde': 344,\n",
       " 'olmasına': 345,\n",
       " 'tv': 346,\n",
       " 'sabah': 347,\n",
       " 'devam': 348,\n",
       " 'kutu': 349,\n",
       " 'henüz': 350,\n",
       " 'falan': 351,\n",
       " 'sorunu': 352,\n",
       " 'tabi': 353,\n",
       " 'a': 354,\n",
       " '20': 355,\n",
       " 'bakarak': 356,\n",
       " 'sanırım': 357,\n",
       " 'hepsiburadaya': 358,\n",
       " 'kulaklık': 359,\n",
       " 'süresi': 360,\n",
       " 'hala': 361,\n",
       " 'muhteşem': 362,\n",
       " 'dikkat': 363,\n",
       " 'güvenilir': 364,\n",
       " 'rahatsız': 365,\n",
       " 'edilir': 366,\n",
       " 'çıkıyor': 367,\n",
       " 'alıp': 368,\n",
       " 'yüzden': 369,\n",
       " 'toz': 370,\n",
       " 'kere': 371,\n",
       " 'orijinal': 372,\n",
       " 'sağlıyor': 373,\n",
       " 'kamerası': 374,\n",
       " 'dün': 375,\n",
       " 'ürüne': 376,\n",
       " 'düşük': 377,\n",
       " 'spor': 378,\n",
       " 'i̇yi': 379,\n",
       " 'problem': 380,\n",
       " 'öneririm': 381,\n",
       " 'edildi': 382,\n",
       " 'plastik': 383,\n",
       " 'içerisinde': 384,\n",
       " 'makine': 385,\n",
       " 'beri': 386,\n",
       " 'fazlasıyla': 387,\n",
       " 'baya': 388,\n",
       " 'kullanımda': 389,\n",
       " '30': 390,\n",
       " 'tavsi̇ye': 391,\n",
       " 'an': 392,\n",
       " 'yalnız': 393,\n",
       " 'özellikleri': 394,\n",
       " 'on': 395,\n",
       " 'den': 396,\n",
       " 'satıcı': 397,\n",
       " 'ilgili': 398,\n",
       " 'genel': 399,\n",
       " 'oldum': 400,\n",
       " 'kaç': 401,\n",
       " 'etkili': 402,\n",
       " 'sıcak': 403,\n",
       " 'haftadır': 404,\n",
       " 'üstelik': 405,\n",
       " 'fiyatıda': 406,\n",
       " 'olmuş': 407,\n",
       " '24': 408,\n",
       " 'yada': 409,\n",
       " 'hep': 410,\n",
       " 'üst': 411,\n",
       " 'olabilir': 412,\n",
       " 'paket': 413,\n",
       " 'bazı': 414,\n",
       " 'almışım': 415,\n",
       " 'güçlü': 416,\n",
       " 'piyasada': 417,\n",
       " 'yerine': 418,\n",
       " 'arasında': 419,\n",
       " 'renk': 420,\n",
       " 'inanılmaz': 421,\n",
       " 'arkadaşlara': 422,\n",
       " 'paraya': 423,\n",
       " 'kurulum': 424,\n",
       " 'umarım': 425,\n",
       " 'sert': 426,\n",
       " 'kitabı': 427,\n",
       " 'ederi̇m': 428,\n",
       " 'olmuyor': 429,\n",
       " 'fena': 430,\n",
       " 'gitti': 431,\n",
       " 'servis': 432,\n",
       " 'altında': 433,\n",
       " 'üzerine': 434,\n",
       " 'nasıl': 435,\n",
       " 'birde': 436,\n",
       " 'ye': 437,\n",
       " 'gelince': 438,\n",
       " 'birşey': 439,\n",
       " 'note': 440,\n",
       " 'yorumları': 441,\n",
       " 'başladım': 442,\n",
       " 'olanlar': 443,\n",
       " 'ön': 444,\n",
       " '0': 445,\n",
       " 'dk': 446,\n",
       " 'üründe': 447,\n",
       " 'sanki': 448,\n",
       " 'kalitesini': 449,\n",
       " 'i̇yi̇': 450,\n",
       " 'sarj': 451,\n",
       " 'almadan': 452,\n",
       " 'etti': 453,\n",
       " 'alıyorum': 454,\n",
       " 'ev': 455,\n",
       " 'cihazı': 456,\n",
       " 'kullanıyoruz': 457,\n",
       " 'geç': 458,\n",
       " 'eşime': 459,\n",
       " 'görünce': 460,\n",
       " 'memnunuz': 461,\n",
       " 'yıldır': 462,\n",
       " 'edici': 463,\n",
       " 'bez': 464,\n",
       " 'arka': 465,\n",
       " 'saatte': 466,\n",
       " 'anda': 467,\n",
       " 'tamamen': 468,\n",
       " 'hizmet': 469,\n",
       " 'çekim': 470,\n",
       " 'herkes': 471,\n",
       " 'parmak': 472,\n",
       " 'akşam': 473,\n",
       " 'tutuyor': 474,\n",
       " 'geçen': 475,\n",
       " 'gore': 476,\n",
       " 'android': 477,\n",
       " 'elimize': 478,\n",
       " '12': 479,\n",
       " 'telefona': 480,\n",
       " 'temizlik': 481,\n",
       " 'görünüyor': 482,\n",
       " 'yumuşak': 483,\n",
       " 'kablo': 484,\n",
       " 'buradan': 485,\n",
       " '100': 486,\n",
       " 'kısmı': 487,\n",
       " 'size': 488,\n",
       " 'orta': 489,\n",
       " 'piyasadaki': 490,\n",
       " 'net': 491,\n",
       " 'hak': 492,\n",
       " 'yere': 493,\n",
       " 'günlük': 494,\n",
       " 'beğendi': 495,\n",
       " 'rahatlığıyla': 496,\n",
       " 'eder': 497,\n",
       " 'hız': 498,\n",
       " 'müzik': 499,\n",
       " 'kalın': 500,\n",
       " 'siyah': 501,\n",
       " 'urunu': 502,\n",
       " 'degil': 503,\n",
       " 'bedava': 504,\n",
       " 'istediğim': 505,\n",
       " 'oğlum': 506,\n",
       " 'saç': 507,\n",
       " 'güvenli': 508,\n",
       " 'kılıf': 509,\n",
       " 'onu': 510,\n",
       " 'yıldız': 511,\n",
       " 'yoksa': 512,\n",
       " 'çıkan': 513,\n",
       " 'hesaplı': 514,\n",
       " 'etmeden': 515,\n",
       " 'hava': 516,\n",
       " 'piyasaya': 517,\n",
       " 'kilo': 518,\n",
       " 'ışık': 519,\n",
       " 'neredeyse': 520,\n",
       " 'fotoğraf': 521,\n",
       " 'i̇çi̇n': 522,\n",
       " 'tşk': 523,\n",
       " 'belki': 524,\n",
       " 'olurdu': 525,\n",
       " 'kablosu': 526,\n",
       " 'bır': 527,\n",
       " 'mı': 528,\n",
       " 'gündür': 529,\n",
       " 'temiz': 530,\n",
       " 'garantili': 531,\n",
       " 'içine': 532,\n",
       " 'alınabilir': 533,\n",
       " 'herşey': 534,\n",
       " 'almanızı': 535,\n",
       " 'siparişi': 536,\n",
       " 'olmaz': 537,\n",
       " 'keşke': 538,\n",
       " 'kendini': 539,\n",
       " 'olacak': 540,\n",
       " 'yakın': 541,\n",
       " 'rengi': 542,\n",
       " 'gun': 543,\n",
       " 'süpürge': 544,\n",
       " 'traş': 545,\n",
       " 'çift': 546,\n",
       " 'şuan': 547,\n",
       " 'gönderim': 548,\n",
       " 'buna': 549,\n",
       " 'motor': 550,\n",
       " 'birkaç': 551,\n",
       " 'hoşuma': 552,\n",
       " 'tasarımı': 553,\n",
       " 'kaldık': 554,\n",
       " 'verdiğim': 555,\n",
       " 'hic': 556,\n",
       " 'değer': 557,\n",
       " 'yağ': 558,\n",
       " 'ekonomik': 559,\n",
       " 'dedim': 560,\n",
       " 'tatmin': 561,\n",
       " 'isteyenlere': 562,\n",
       " 'içinden': 563,\n",
       " 'araştırdım': 564,\n",
       " 'oda': 565,\n",
       " 'yıllardır': 566,\n",
       " 'mevcut': 567,\n",
       " 'kızım': 568,\n",
       " 'kalıyor': 569,\n",
       " 'yapmak': 570,\n",
       " 'buldum': 571,\n",
       " 'şimdilik': 572,\n",
       " 'yanı': 573,\n",
       " 'makina': 574,\n",
       " 'görüyor': 575,\n",
       " 'model': 576,\n",
       " 'kargoda': 577,\n",
       " 'kaldı': 578,\n",
       " '9': 579,\n",
       " 'üstünde': 580,\n",
       " 'avantaj': 581,\n",
       " 'sizi': 582,\n",
       " 'alet': 583,\n",
       " 'müthiş': 584,\n",
       " 'metal': 585,\n",
       " 'ürünleri': 586,\n",
       " 'mouse': 587,\n",
       " 'beraber': 588,\n",
       " 'bebek': 589,\n",
       " 'kullanıyordum': 590,\n",
       " 'geri': 591,\n",
       " 'ederiz': 592,\n",
       " 'başta': 593,\n",
       " 'makul': 594,\n",
       " 'olmazsınız': 595,\n",
       " 'apple': 596,\n",
       " 'yaptı': 597,\n",
       " 'okudum': 598,\n",
       " 'elimde': 599,\n",
       " 'görür': 600,\n",
       " 'olduğundan': 601,\n",
       " 'fiyatının': 602,\n",
       " 'açık': 603,\n",
       " 'üzerinden': 604,\n",
       " 'aşırı': 605,\n",
       " 'özellik': 606,\n",
       " 'e': 607,\n",
       " 'olanlara': 608,\n",
       " 'izi': 609,\n",
       " 'garanti': 610,\n",
       " 'film': 611,\n",
       " 'biz': 612,\n",
       " 'yavaş': 613,\n",
       " 'ucuza': 614,\n",
       " 'bişey': 615,\n",
       " 'tartışılmaz': 616,\n",
       " 'sene': 617,\n",
       " 'super': 618,\n",
       " 'site': 619,\n",
       " 'birçok': 620,\n",
       " 'ücretsiz': 621,\n",
       " 'sonunda': 622,\n",
       " 'ısınma': 623,\n",
       " 'saati': 624,\n",
       " 'batarya': 625,\n",
       " 'kapalı': 626,\n",
       " 'olumsuz': 627,\n",
       " 'alan': 628,\n",
       " 'hediyesi': 629,\n",
       " 'kullaniyorum': 630,\n",
       " 'yapmıyor': 631,\n",
       " 'eve': 632,\n",
       " 'evet': 633,\n",
       " 'önceki': 634,\n",
       " 'sık': 635,\n",
       " 'hakkını': 636,\n",
       " 'beklediğim': 637,\n",
       " 'kelimeyle': 638,\n",
       " 'beyaz': 639,\n",
       " 'zorunda': 640,\n",
       " 'üç': 641,\n",
       " 'kat': 642,\n",
       " 'telefonda': 643,\n",
       " 'tasarım': 644,\n",
       " 'dakika': 645,\n",
       " 'etmek': 646,\n",
       " 'uyumlu': 647,\n",
       " 'önceden': 648,\n",
       " 'olunca': 649,\n",
       " 'severek': 650,\n",
       " 'isteyenler': 651,\n",
       " 'diyorum': 652,\n",
       " 'çanta': 653,\n",
       " 'el': 654,\n",
       " 'istedim': 655,\n",
       " 'iyiki': 656,\n",
       " 'kullanın': 657,\n",
       " 'yoktu': 658,\n",
       " 'sıkıntısı': 659,\n",
       " 'ikinci': 660,\n",
       " 'yorumlarda': 661,\n",
       " 'çekiyor': 662,\n",
       " 'bilmiyorum': 663,\n",
       " 'kullanma': 664,\n",
       " 'araç': 665,\n",
       " 'edin': 666,\n",
       " 'görüntüsü': 667,\n",
       " 'firma': 668,\n",
       " 'alıyor': 669,\n",
       " 'hepsi̇burada': 670,\n",
       " 'alt': 671,\n",
       " 'olmadan': 672,\n",
       " 'bazen': 673,\n",
       " 'dayanıklı': 674,\n",
       " 'olmaması': 675,\n",
       " 'ona': 676,\n",
       " 'iade': 677,\n",
       " 'fiyatlı': 678,\n",
       " 'internet': 679,\n",
       " 'geniş': 680,\n",
       " 'philips': 681,\n",
       " 'koltuk': 682,\n",
       " 'elimdeydi': 683,\n",
       " 'kullanan': 684,\n",
       " 'yaparken': 685,\n",
       " 'derecede': 686,\n",
       " 'asla': 687,\n",
       " '16': 688,\n",
       " 'kalitede': 689,\n",
       " 'taktım': 690,\n",
       " 'resmen': 691,\n",
       " 'eden': 692,\n",
       " 'halde': 693,\n",
       " 'merhaba': 694,\n",
       " 'mukemmel': 695,\n",
       " 'hassas': 696,\n",
       " 'başladı': 697,\n",
       " 'zarar': 698,\n",
       " 'kalitesiz': 699,\n",
       " 'aylık': 700,\n",
       " 'açıkçası': 701,\n",
       " 'mutlu': 702,\n",
       " 'alin': 703,\n",
       " 'yeri': 704,\n",
       " 'ram': 705,\n",
       " 'neden': 706,\n",
       " 'eksiksiz': 707,\n",
       " 'paketlenmiş': 708,\n",
       " 'idi': 709,\n",
       " 'idare': 710,\n",
       " 'iyiydi': 711,\n",
       " 'olabilirdi': 712,\n",
       " 'yarıyor': 713,\n",
       " 'gerekli': 714,\n",
       " 'olduğum': 715,\n",
       " '50': 716,\n",
       " 'parfümü': 717,\n",
       " 'buradaya': 718,\n",
       " 'kelime': 719,\n",
       " 'herkesin': 720,\n",
       " 'olmasi': 721,\n",
       " 'ara': 722,\n",
       " 'verildi': 723,\n",
       " 'yoğun': 724,\n",
       " 'etkisi': 725,\n",
       " 'vermeye': 726,\n",
       " 'saçlarım': 727,\n",
       " 'siz': 728,\n",
       " 'kullanıyor': 729,\n",
       " 'b': 730,\n",
       " '40': 731,\n",
       " 'zamandır': 732,\n",
       " 'yapan': 733,\n",
       " 'olmayan': 734,\n",
       " 'yorumlar': 735,\n",
       " 'ayrica': 736,\n",
       " 'yinede': 737,\n",
       " 'kendim': 738,\n",
       " 'ulasti': 739,\n",
       " 'hafıza': 740,\n",
       " 'etmiyor': 741,\n",
       " 'almış': 742,\n",
       " 'yapılmış': 743,\n",
       " 'verdikten': 744,\n",
       " 'kendime': 745,\n",
       " 'yedek': 746,\n",
       " 'düşünenlere': 747,\n",
       " 'durum': 748,\n",
       " 'sonuçta': 749,\n",
       " 'yerden': 750,\n",
       " 'etmiyorum': 751,\n",
       " 'video': 752,\n",
       " 'çekiş': 753,\n",
       " 'cuma': 754,\n",
       " 'cam': 755,\n",
       " 'uygulama': 756,\n",
       " 'içi': 757,\n",
       " 'işi': 758,\n",
       " 'eksik': 759,\n",
       " 'ihtiyacı': 760,\n",
       " 'eksiği': 761,\n",
       " 'faydalı': 762,\n",
       " 'göz': 763,\n",
       " 'deneme': 764,\n",
       " 'isteyen': 765,\n",
       " 'acaba': 766,\n",
       " 'kısacası': 767,\n",
       " 'kullanabilirsiniz': 768,\n",
       " 'merak': 769,\n",
       " 'temizliyor': 770,\n",
       " 'ürünle': 771,\n",
       " 'rahatlığı': 772,\n",
       " 'p': 773,\n",
       " 'türkiye': 774,\n",
       " 'hepsiburadadan': 775,\n",
       " 'aldı': 776,\n",
       " 'görmedim': 777,\n",
       " 'test': 778,\n",
       " 'ana': 779,\n",
       " 'aldıktan': 780,\n",
       " 'aleti': 781,\n",
       " 'şimdiye': 782,\n",
       " 'yapıyorum': 783,\n",
       " 'olumlu': 784,\n",
       " 'hakkında': 785,\n",
       " 'piyasa': 786,\n",
       " 'ekranı': 787,\n",
       " 'mümkün': 788,\n",
       " 'kış': 789,\n",
       " 'siparis': 790,\n",
       " 'd': 791,\n",
       " 'malı': 792,\n",
       " 'elinize': 793,\n",
       " 'km': 794,\n",
       " 'gösteriyor': 795,\n",
       " 'haricinde': 796,\n",
       " 'donma': 797,\n",
       " 'denemek': 798,\n",
       " 'türlü': 799,\n",
       " 'i': 800,\n",
       " 'alacaklara': 801,\n",
       " 'elde': 802,\n",
       " 'dış': 803,\n",
       " 'dokunmatik': 804,\n",
       " 'gerçek': 805,\n",
       " 'tabiki': 806,\n",
       " 'ürünlere': 807,\n",
       " 'boyutu': 808,\n",
       " 'hissi': 809,\n",
       " 'söyleyebilirim': 810,\n",
       " 'cabası': 811,\n",
       " 'kaldim': 812,\n",
       " 'emiş': 813,\n",
       " 'kanal': 814,\n",
       " 'takip': 815,\n",
       " 'problemi': 816,\n",
       " 'tavsiyem': 817,\n",
       " 'kargolama': 818,\n",
       " 'aslında': 819,\n",
       " 'dahi': 820,\n",
       " 'yardımcı': 821,\n",
       " 'akıcı': 822,\n",
       " 'ütü': 823,\n",
       " 'konuda': 824,\n",
       " 'hayırlı': 825,\n",
       " 'değilim': 826,\n",
       " 'herkeze': 827,\n",
       " 'karşı': 828,\n",
       " 'markanın': 829,\n",
       " 'kutusu': 830,\n",
       " 'elektrik': 831,\n",
       " 'yaz': 832,\n",
       " 'yerli': 833,\n",
       " 'tavsıye': 834,\n",
       " 'emin': 835,\n",
       " 's': 836,\n",
       " 'lg': 837,\n",
       " 'once': 838,\n",
       " 'araba': 839,\n",
       " 'pazartesi': 840,\n",
       " 'f': 841,\n",
       " 'kullandıktan': 842,\n",
       " 'yatak': 843,\n",
       " 'zarif': 844,\n",
       " 'gelir': 845,\n",
       " 'beden': 846,\n",
       " 'özel': 847,\n",
       " 'ciddi': 848,\n",
       " 'kontrol': 849,\n",
       " 'olmak': 850,\n",
       " 'i̇ki': 851,\n",
       " 'zamanla': 852,\n",
       " 'fayda': 853,\n",
       " 'istiyorsanız': 854,\n",
       " 'bağlantı': 855,\n",
       " 'sıfır': 856,\n",
       " 'çıkmadı': 857,\n",
       " 'ayni': 858,\n",
       " 'parasını': 859,\n",
       " 'fön': 860,\n",
       " 'anladım': 861,\n",
       " 'düzgün': 862,\n",
       " 'olmadığı': 863,\n",
       " 'fiyatını': 864,\n",
       " 'kibar': 865,\n",
       " 'veren': 866,\n",
       " 'sağlıklı': 867,\n",
       " 'birisi': 868,\n",
       " 'soğuk': 869,\n",
       " 'montaj': 870,\n",
       " 'klasik': 871,\n",
       " 'parça': 872,\n",
       " 'yarım': 873,\n",
       " 'telefondan': 874,\n",
       " 'okuma': 875,\n",
       " 'makinesi': 876,\n",
       " 'verilen': 877,\n",
       " 'düzenli': 878,\n",
       " 'düşünmeyin': 879,\n",
       " 'kullanılabilir': 880,\n",
       " 'koruyucu': 881,\n",
       " 'anneme': 882,\n",
       " 'hale': 883,\n",
       " 'ömrü': 884,\n",
       " 'kalitesine': 885,\n",
       " 'bulmak': 886,\n",
       " 'kullanmadım': 887,\n",
       " 'saglam': 888,\n",
       " 'normalde': 889,\n",
       " 'cm': 890,\n",
       " 'xiaomi': 891,\n",
       " 'beklemeyin': 892,\n",
       " 'çoğu': 893,\n",
       " 'pili': 894,\n",
       " 'çocuk': 895,\n",
       " 'bakımından': 896,\n",
       " 'birebir': 897,\n",
       " 'yazma': 898,\n",
       " 'boyu': 899,\n",
       " 'hareket': 900,\n",
       " 'siteden': 901,\n",
       " 'cihazın': 902,\n",
       " 'led': 903,\n",
       " 'tahmin': 904,\n",
       " 'kapak': 905,\n",
       " 'bilgisayar': 906,\n",
       " 'ısınıyor': 907,\n",
       " 'eksi': 908,\n",
       " 'gelmesi': 909,\n",
       " 'kalmadı': 910,\n",
       " 'begendim': 911,\n",
       " 'kullanisli': 912,\n",
       " 'verip': 913,\n",
       " 'günden': 914,\n",
       " 'kaçmaz': 915,\n",
       " 'sürükleyici': 916,\n",
       " 'sonucu': 917,\n",
       " 'markası': 918,\n",
       " 'indirim': 919,\n",
       " 'oranı': 920,\n",
       " 'arkadaşım': 921,\n",
       " 'telefonum': 922,\n",
       " 'temizliği': 923,\n",
       " 'şarjlı': 924,\n",
       " 'kullanırken': 925,\n",
       " 'zayıf': 926,\n",
       " 'tesekkur': 927,\n",
       " 'çıkarıyor': 928,\n",
       " 'karşıladı': 929,\n",
       " 'sistemi': 930,\n",
       " 'akıllı': 931,\n",
       " 'ortalama': 932,\n",
       " 'direk': 933,\n",
       " 'alınır': 934,\n",
       " 'olsaydı': 935,\n",
       " 'arkadaslar': 936,\n",
       " 'profesyonel': 937,\n",
       " 'boşuna': 938,\n",
       " 'hd': 939,\n",
       " 'sony': 940,\n",
       " 'iç': 941,\n",
       " 'ekstra': 942,\n",
       " 'yi': 943,\n",
       " 'kuru': 944,\n",
       " 'sonrası': 945,\n",
       " 'almayın': 946,\n",
       " 'lik': 947,\n",
       " 'kusursuz': 948,\n",
       " 'başlık': 949,\n",
       " 'seviyede': 950,\n",
       " 'bluetooth': 951,\n",
       " 'kullanmıştım': 952,\n",
       " 'burda': 953,\n",
       " 'genelde': 954,\n",
       " 'kokuyu': 955,\n",
       " 'olacağını': 956,\n",
       " 'siparişim': 957,\n",
       " 'burdan': 958,\n",
       " 'kampanya': 959,\n",
       " 'nin': 960,\n",
       " 'olanı': 961,\n",
       " 'vestel': 962,\n",
       " 'alacağım': 963,\n",
       " 'tarafı': 964,\n",
       " 'insan': 965,\n",
       " 'artı': 966,\n",
       " 'paketi': 967,\n",
       " 'ayarı': 968,\n",
       " 'karşılıyor': 969,\n",
       " 'üstüne': 970,\n",
       " 'premium': 971,\n",
       " 'kalıcılığı': 972,\n",
       " 'eminim': 973,\n",
       " 'olup': 974,\n",
       " 'ürünlerden': 975,\n",
       " 'malzemesi': 976,\n",
       " 'mavi': 977,\n",
       " 'buradaki': 978,\n",
       " 'markalara': 979,\n",
       " 'parlak': 980,\n",
       " 'söz': 981,\n",
       " 'ergonomik': 982,\n",
       " 'yaptığım': 983,\n",
       " 'kendisi': 984,\n",
       " 'düşünen': 985,\n",
       " 'hızlıydı': 986,\n",
       " 'kasma': 987,\n",
       " 'fiyatta': 988,\n",
       " 'enerji': 989,\n",
       " 'kolayca': 990,\n",
       " 'yan': 991,\n",
       " 'pc': 992,\n",
       " '00': 993,\n",
       " 'bol': 994,\n",
       " 'kablosuz': 995,\n",
       " 'full': 996,\n",
       " 'işinizi': 997,\n",
       " 'modeli': 998,\n",
       " 'oturuyor': 999,\n",
       " 'kişi': 1000,\n",
       " ...}"
      ]
     },
     "execution_count": 12,
     "metadata": {},
     "output_type": "execute_result"
    }
   ],
   "source": [
    "tokenizer.word_index"
   ]
  },
  {
   "cell_type": "code",
   "execution_count": 13,
   "id": "a4be66d3-d78b-48e3-a3fb-89c63ce29a2e",
   "metadata": {},
   "outputs": [],
   "source": [
    "#texts_to_sequences fonksiyonu ile tokenlerin yerini index değerleri aldı ve tokenler sayısallaştırılmış oldu.\n",
    "x_train_sequens = tokenizer.texts_to_sequences(x_train)"
   ]
  },
  {
   "cell_type": "code",
   "execution_count": 14,
   "id": "5ff6ca97-a204-4e49-a8d0-30810e710c57",
   "metadata": {},
   "outputs": [
    {
     "name": "stdout",
     "output_type": "stream",
     "text": [
      "[19, 341, 52, 194, 30, 54, 7992, 55, 209, 603, 7887, 3, 36, 114, 164, 479, 85, 1, 1682, 782, 30, 2, 380, 326, 3, 1, 81, 132, 562, 9, 10]\n"
     ]
    }
   ],
   "source": [
    "print(x_train_sequens[800])"
   ]
  },
  {
   "cell_type": "code",
   "execution_count": 15,
   "id": "afdb7949-de64-440a-8996-3b05c4ad1350",
   "metadata": {},
   "outputs": [],
   "source": [
    "#aynı sayısallaştırma işlemine X_test verilerine de tabi tutuldu.\n",
    "x_test_sequens = tokenizer.texts_to_sequences(x_test)"
   ]
  },
  {
   "cell_type": "code",
   "execution_count": 16,
   "id": "bd96aa54-9671-42b5-a57d-0a9a5fe98aff",
   "metadata": {},
   "outputs": [
    {
     "name": "stdout",
     "output_type": "stream",
     "text": [
      "[3226, 308, 2, 4699, 260, 693, 185, 1556, 1810, 185, 64, 3379, 20, 78, 30, 13, 269, 2, 550, 50]\n"
     ]
    }
   ],
   "source": [
    "print(x_test_sequens[800])"
   ]
  },
  {
   "cell_type": "code",
   "execution_count": 17,
   "id": "33d178fb-3d60-4a14-aacd-5ad225ddbdc0",
   "metadata": {},
   "outputs": [],
   "source": [
    "#Verilerin modele verilmeye hazır hale getirilmesi için tüm tokenlerin uzunluğunun eşit olması gerekir.Bunun için tüm x verileri bir listeye atandı\n",
    "#ve uzunlukları alındı.\n",
    "num_token =[len(token) for token in x_train_sequens + x_test_sequens ]\n",
    "num_token= np.array(num_token)"
   ]
  },
  {
   "cell_type": "code",
   "execution_count": 18,
   "id": "3e62fa43-a5f1-4e7b-abfd-51b8f0b1d672",
   "metadata": {},
   "outputs": [
    {
     "data": {
      "text/plain": [
       "20.744703220162876"
      ]
     },
     "execution_count": 18,
     "metadata": {},
     "output_type": "execute_result"
    }
   ],
   "source": [
    "#Verilrin uzunuğunun ortalaması\n",
    "np.mean(num_token)"
   ]
  },
  {
   "cell_type": "code",
   "execution_count": 19,
   "id": "ca66ba7f-3994-4dc5-af3e-691d24138c34",
   "metadata": {},
   "outputs": [
    {
     "data": {
      "text/plain": [
       "295"
      ]
     },
     "execution_count": 19,
     "metadata": {},
     "output_type": "execute_result"
    }
   ],
   "source": [
    "#Verilrin uzunuğunun maximumu\n",
    "np.max(num_token)"
   ]
  },
  {
   "cell_type": "code",
   "execution_count": 20,
   "id": "bdb05528-7d21-49f7-94d5-899016bd3457",
   "metadata": {},
   "outputs": [
    {
     "data": {
      "text/plain": [
       "21941"
      ]
     },
     "execution_count": 20,
     "metadata": {},
     "output_type": "execute_result"
    }
   ],
   "source": [
    "#argmax ile en büyük elemanın indisine ulaşılır\n",
    "np.argmax(num_token)"
   ]
  },
  {
   "cell_type": "code",
   "execution_count": 21,
   "id": "9447acd5-5ab4-4220-840d-1a745353e852",
   "metadata": {},
   "outputs": [
    {
     "data": {
      "text/plain": [
       "'Özellikle bu kısma yazıyorum iyice okuyunuz,cihazın hızı çok iyi.Isınma normal boyutlarda.Kamerası elinizi sabit tutarsanız ve gündüz çok net gece ise çok net çekmez.Görüntülü konuşma özelliği yok ancak uygulama ile olur,anten çekimi gayet iyi.Parmak izi okuyucusu gayet hızlı bazen tuşu silmenizi istiyor ve okuyamıyor kirden vs...Ön kamera da tatmin edici,çekim esnasında ekran beyaz ışık vererek flaş görevi görür.Batarya bana 1 hafta gidiyor sık kullanımda ise 2-3 gün gidiyor.Hızlı şarj 1 saatte doluyor , şekilleri ele oturuyor ve şık bir görüntü var.Telefonu aldığım gün gittim ve ilk girdiğim yerden ekran koruyucu ve kılıf buldum.Kulaklık sesi çok net ve yüksek ancak kendi hoparlörü biraz zayıf sesi.Ekrana bakarken açık kalma özelliği yok.Diğer akıllı cihaz özellikleri %90 ı bu cihazda mevcut.Güç tasarrufu 2 ayrı modu var ve çok başarılı çalışıyor.4gb ram var genelde yarısı boş kalıyor.Bir de yeni cihazların çoğu titreşimi az ve sesi de az çıkıyor.Bu cihaz da içine dahil...Bu cihazlar güncelleme almaz ve rom bulunmuyormuş.Benim için güncelleme sorun olmaz -cihaz parasına göre s serisi ile yarışıyor çünkü.Biraz metal olmasından dolayı elden kolay kaysada duruşu ve gösterişi iyidir.Çift flaşı var arkada.Kısaca şöyle ki bu fiyata bu ürün alınır.5 aydır kullanıyorum kasma donma felan zaten olmaz,bataryası iyi,şekli iyi,özellikler de iyi....En büyük kafa karıştıran soru şu ki hadi cihaz arıza yaptı veya düştü ekranı kırıldı.Bunun bir servisi var,ithalatçı garantisi de var.Cihazın adı sanı belli...Parça bulanmaz tamir olmaz derseniz size kalmış.Zaten normal bir cihazı da düşürseniz farkedermi?.Güncelleme almaz diyorlar bu konuda düşünebilirsiniz.S serisi cihazlarla hızını kıyaslarsınız ama güncelleme ile araya fark koymuşlar.İki katı fiyata satılan cihazla farkı olmasa zaten olmaz değil mi?Almayı düşünenler başka bir cihazla kıyas yapacaksa yine  7pro veya 9 baksınlar.C5 pro da biraz boyutu kısa ve kibar....Sonuçta ömürlük değil alın fazla düşünmeyin'"
      ]
     },
     "execution_count": 21,
     "metadata": {},
     "output_type": "execute_result"
    }
   ],
   "source": [
    "x_train[21941]"
   ]
  },
  {
   "cell_type": "code",
   "execution_count": 22,
   "id": "642068c9-e758-4f3e-936e-7d2540f6aaaa",
   "metadata": {},
   "outputs": [],
   "source": [
    "#Verilerin uzunluk ortalaması 20 olmasına rağmen biz ortalama+ 2x standart sapma formülünün çıktını uygulayacağız.\n",
    "max_tokens = np.mean(num_token) + 2 * np.std(num_token)"
   ]
  },
  {
   "cell_type": "code",
   "execution_count": 23,
   "id": "c3f0f804-bdd1-4c07-b170-b020f623b6c6",
   "metadata": {},
   "outputs": [
    {
     "data": {
      "text/plain": [
       "59.81181704385857"
      ]
     },
     "execution_count": 23,
     "metadata": {},
     "output_type": "execute_result"
    }
   ],
   "source": [
    "max_tokens"
   ]
  },
  {
   "cell_type": "code",
   "execution_count": 24,
   "id": "3e5ef167-3e53-404b-b146-f8f52fdd7179",
   "metadata": {},
   "outputs": [],
   "source": [
    "max_tokens=int(max_tokens)"
   ]
  },
  {
   "cell_type": "code",
   "execution_count": 25,
   "id": "b4510792-a86d-49e6-87f2-8fbcfa8c95b3",
   "metadata": {},
   "outputs": [
    {
     "data": {
      "text/plain": [
       "0.9597982726686571"
      ]
     },
     "execution_count": 25,
     "metadata": {},
     "output_type": "execute_result"
    }
   ],
   "source": [
    "#Buradan da kullandığımız formülün çıktısı olan 59 un verilerin %95 i kapsadığını görebiliriz.\n",
    "np.sum(num_token < max_tokens )/ len(num_token)"
   ]
  },
  {
   "cell_type": "code",
   "execution_count": 26,
   "id": "fbba83af-82ce-4ed5-be05-e98c138c2737",
   "metadata": {},
   "outputs": [],
   "source": [
    "x_train_pad=  pad_sequences(x_train_sequens, maxlen = 59)\n",
    "x_test_pad=  pad_sequences(x_test_sequens ,maxlen = 59)"
   ]
  },
  {
   "cell_type": "code",
   "execution_count": 27,
   "id": "68711d58-34b9-44c7-908a-36f29ed1f458",
   "metadata": {},
   "outputs": [
    {
     "data": {
      "text/plain": [
       "(194797, 59)"
      ]
     },
     "execution_count": 27,
     "metadata": {},
     "output_type": "execute_result"
    }
   ],
   "source": [
    "x_train_pad.shape"
   ]
  },
  {
   "cell_type": "code",
   "execution_count": 28,
   "id": "f8af10cb-5212-49b7-9d01-82702f68e145",
   "metadata": {},
   "outputs": [
    {
     "data": {
      "text/plain": [
       "(48700, 59)"
      ]
     },
     "execution_count": 28,
     "metadata": {},
     "output_type": "execute_result"
    }
   ],
   "source": [
    "x_test_pad.shape"
   ]
  },
  {
   "cell_type": "code",
   "execution_count": 29,
   "id": "2ac6c396-8e31-4119-b01c-d2cd43d7b0a4",
   "metadata": {},
   "outputs": [
    {
     "data": {
      "text/plain": [
       "array([   0,    0,    0,    0,    0,    0,    0,    0,    0,    0,    0,\n",
       "          0,    0,    0,    0,    0,    0,    0,    0,    0,    0,    0,\n",
       "          0,    0,    0,    0,    0,    0,    0,    0,    0,    0,    0,\n",
       "          0,    0,    0,    0,    0,    0, 3226,  308,    2, 4699,  260,\n",
       "        693,  185, 1556, 1810,  185,   64, 3379,   20,   78,   30,   13,\n",
       "        269,    2,  550,   50])"
      ]
     },
     "execution_count": 29,
     "metadata": {},
     "output_type": "execute_result"
    }
   ],
   "source": [
    "x_test_pad[800]"
   ]
  },
  {
   "cell_type": "code",
   "execution_count": 30,
   "id": "f3b773ac-4fc5-4cfe-9123-a809a0ac2dd1",
   "metadata": {},
   "outputs": [
    {
     "data": {
      "text/plain": [
       "array([  19,  341,   52,  194,   30,   54, 7992,   55,  209,  603, 7887,\n",
       "          3,   36,  114,  164,  479,   85,    1, 1682,  782,   30,    2,\n",
       "        380,  326,    3,    1,   81,  132,  562,    9,   10])"
      ]
     },
     "execution_count": 30,
     "metadata": {},
     "output_type": "execute_result"
    }
   ],
   "source": [
    "np.array(x_train_sequens[800])"
   ]
  },
  {
   "cell_type": "code",
   "execution_count": 31,
   "id": "622fdbf3-7837-48b5-8a7b-7600dadef20a",
   "metadata": {},
   "outputs": [
    {
     "data": {
      "text/plain": [
       "array([   0,    0,    0,    0,    0,    0,    0,    0,    0,    0,    0,\n",
       "          0,    0,    0,    0,    0,    0,    0,    0,    0,    0,    0,\n",
       "          0,    0,    0,    0,    0,    0,   19,  341,   52,  194,   30,\n",
       "         54, 7992,   55,  209,  603, 7887,    3,   36,  114,  164,  479,\n",
       "         85,    1, 1682,  782,   30,    2,  380,  326,    3,    1,   81,\n",
       "        132,  562,    9,   10])"
      ]
     },
     "execution_count": 31,
     "metadata": {},
     "output_type": "execute_result"
    }
   ],
   "source": [
    "x_train_pad[800]"
   ]
  },
  {
   "cell_type": "code",
   "execution_count": 32,
   "id": "48a9ab56-e1cb-4f45-983c-1323a99e374a",
   "metadata": {},
   "outputs": [],
   "source": [
    "#\n",
    "idx = tokenizer.word_index\n",
    "inverse_map = dict(zip(idx.values(), idx.keys()))"
   ]
  },
  {
   "cell_type": "code",
   "execution_count": 33,
   "id": "a25809fe-9f5a-419e-8cf4-1028d430b73e",
   "metadata": {},
   "outputs": [],
   "source": [
    "def tokens_to_string(tokens):\n",
    "    words = [inverse_map[token] for token in tokens if token!=0]\n",
    "    text = ' '.join(words)\n",
    "    return text"
   ]
  },
  {
   "cell_type": "code",
   "execution_count": 34,
   "id": "0fb16b42-32d5-4110-af24-095d8e3f1530",
   "metadata": {},
   "outputs": [
    {
     "data": {
      "text/plain": [
       "'ürünü alalı 3 hafta kadar oldu. aralıksız kullanıyorum bilgisyarım sürekli açık durur ve ben günde yaklaşık 12 saat başındayım mousesu çok kullanırım. şimdiye kadar bir problem yaşamadım ve çok memnunum almak isteyenlere tavsiye ederim.'"
      ]
     },
     "execution_count": 34,
     "metadata": {},
     "output_type": "execute_result"
    }
   ],
   "source": [
    "x_train[800]"
   ]
  },
  {
   "cell_type": "code",
   "execution_count": 35,
   "id": "702c83d5-1d7f-4e36-9aac-59b4d355f287",
   "metadata": {},
   "outputs": [
    {
     "data": {
      "text/plain": [
       "'ürünü alalı 3 hafta kadar oldu aralıksız kullanıyorum sürekli açık durur ve ben günde yaklaşık 12 saat çok kullanırım şimdiye kadar bir problem yaşamadım ve çok memnunum almak isteyenlere tavsiye ederim'"
      ]
     },
     "execution_count": 35,
     "metadata": {},
     "output_type": "execute_result"
    }
   ],
   "source": [
    "tokens_to_string(x_train_sequens[800])"
   ]
  },
  {
   "cell_type": "code",
   "execution_count": 36,
   "id": "e6b2e348-1e84-45d9-9d03-d7d2933c370a",
   "metadata": {},
   "outputs": [],
   "source": [
    "#Artık modelimizi oluşturmaya başlayabiliriz!\n",
    "model=Sequential()\n",
    "mbedding_size=50\n",
    "model.add(Embedding(input_dim=num_words,\n",
    "                   output_dim=50,\n",
    "                   input_length=max_tokens,\n",
    "                    name='embedding_layer'))"
   ]
  },
  {
   "cell_type": "code",
   "execution_count": 37,
   "id": "cc91f677-016e-4b9d-b61c-944630543be5",
   "metadata": {},
   "outputs": [],
   "source": [
    "#Buradaki GRU yerine LSTM katmanları da kullanılabilri.\n",
    "#Ayrıca  return_sequences parametresi ,eyer sonraki katman GRU VEYA LSTM kullanmıyorsa true olur.\n",
    "#Eyer sonrasında output üretilecekse defult olarak false yapılır.\n",
    "\n",
    "model.add(GRU(units=16,return_sequences=True)) \n",
    "model.add(GRU(units=8,return_sequences=True)) \n",
    "model.add(GRU(units=4)) \n",
    "\n",
    "model.add(Dense(1,activation='sigmoid'))"
   ]
  },
  {
   "cell_type": "code",
   "execution_count": 38,
   "id": "9f9daf82-bf02-402a-ba72-866663159dc6",
   "metadata": {},
   "outputs": [
    {
     "name": "stdout",
     "output_type": "stream",
     "text": [
      "Model: \"sequential\"\n",
      "_________________________________________________________________\n",
      " Layer (type)                Output Shape              Param #   \n",
      "=================================================================\n",
      " embedding_layer (Embedding)  (None, 59, 50)           500000    \n",
      "                                                                 \n",
      " gru (GRU)                   (None, 59, 16)            3264      \n",
      "                                                                 \n",
      " gru_1 (GRU)                 (None, 59, 8)             624       \n",
      "                                                                 \n",
      " gru_2 (GRU)                 (None, 4)                 168       \n",
      "                                                                 \n",
      " dense (Dense)               (None, 1)                 5         \n",
      "                                                                 \n",
      "=================================================================\n",
      "Total params: 504,061\n",
      "Trainable params: 504,061\n",
      "Non-trainable params: 0\n",
      "_________________________________________________________________\n"
     ]
    }
   ],
   "source": [
    "model.summary()"
   ]
  },
  {
   "cell_type": "code",
   "execution_count": 45,
   "id": "43e86867-1e7d-42a1-ae79-c3f86e4e28ce",
   "metadata": {},
   "outputs": [],
   "source": [
    "model.compile(optimizer='adam', loss='binary_crossentropy',metrics=['accuracy'])"
   ]
  },
  {
   "cell_type": "code",
   "execution_count": 46,
   "id": "4e7b9204-e3e7-4cb1-a7ab-616c013d6779",
   "metadata": {},
   "outputs": [],
   "source": [
    "y_train = np.array(y_train)"
   ]
  },
  {
   "cell_type": "code",
   "execution_count": 47,
   "id": "634783d7-b3d8-46b2-9495-6e9a45036c31",
   "metadata": {},
   "outputs": [
    {
     "name": "stdout",
     "output_type": "stream",
     "text": [
      "Epoch 1/5\n",
      "761/761 [==============================] - 19s 17ms/step - loss: 0.1623 - accuracy: 0.9548\n",
      "Epoch 2/5\n",
      "761/761 [==============================] - 13s 17ms/step - loss: 0.0888 - accuracy: 0.9709\n",
      "Epoch 3/5\n",
      "761/761 [==============================] - 13s 17ms/step - loss: 0.0724 - accuracy: 0.9769\n",
      "Epoch 4/5\n",
      "761/761 [==============================] - 13s 17ms/step - loss: 0.0596 - accuracy: 0.9817\n",
      "Epoch 5/5\n",
      "761/761 [==============================] - 14s 18ms/step - loss: 0.0482 - accuracy: 0.9862\n"
     ]
    },
    {
     "data": {
      "text/plain": [
       "<keras.callbacks.History at 0x14b6333dc90>"
      ]
     },
     "execution_count": 47,
     "metadata": {},
     "output_type": "execute_result"
    }
   ],
   "source": [
    "model.fit(x_train_pad,y_train,\n",
    "          epochs=5,\n",
    "          batch_size=256\n",
    "         )"
   ]
  },
  {
   "cell_type": "code",
   "execution_count": 49,
   "id": "9af3c27c-f4f8-465d-8e26-2e7fffd23efe",
   "metadata": {},
   "outputs": [],
   "source": [
    "y_test=np.array(y_test)"
   ]
  },
  {
   "cell_type": "code",
   "execution_count": 50,
   "id": "595f729e-4b2c-4929-a2d2-3c3f4fddb2b7",
   "metadata": {},
   "outputs": [
    {
     "name": "stdout",
     "output_type": "stream",
     "text": [
      "1522/1522 [==============================] - 11s 7ms/step - loss: 0.1560 - accuracy: 0.9510\n"
     ]
    }
   ],
   "source": [
    "#Modelimizin doğruluk oranı\n",
    "result= model.evaluate(x_test_pad,y_test)"
   ]
  },
  {
   "cell_type": "code",
   "execution_count": 52,
   "id": "98326011-2f5a-432d-9626-5fe07fb6ba2c",
   "metadata": {},
   "outputs": [
    {
     "data": {
      "text/plain": [
       "[0.15603867173194885, 0.9510266780853271]"
      ]
     },
     "execution_count": 52,
     "metadata": {},
     "output_type": "execute_result"
    }
   ],
   "source": [
    "result"
   ]
  },
  {
   "cell_type": "code",
   "execution_count": 54,
   "id": "6f36ba65-9845-448b-9997-96e791d8bc1d",
   "metadata": {},
   "outputs": [
    {
     "name": "stdout",
     "output_type": "stream",
     "text": [
      "32/32 [==============================] - 1s 9ms/step\n"
     ]
    }
   ],
   "source": [
    "#ilk 1000 değer test edildi\n",
    "predict_results= model.predict(x=x_test_pad[:1000])"
   ]
  },
  {
   "cell_type": "code",
   "execution_count": 57,
   "id": "9f304351-5ff1-4158-8f03-ae76517f2f4b",
   "metadata": {},
   "outputs": [],
   "source": [
    "#Modelin düz satır halinde gelmesi için transpozu alındı\n",
    "predict_results = predict_results.T[0]"
   ]
  },
  {
   "cell_type": "code",
   "execution_count": 58,
   "id": "6b8609e4-a4c4-4a39-88d8-70fd735ac83b",
   "metadata": {
    "scrolled": true
   },
   "outputs": [
    {
     "data": {
      "text/plain": [
       "array([0.99705493, 0.99770606, 0.99560237, 0.95009226, 0.9975973 ,\n",
       "       0.91090024, 0.9970138 , 0.9971475 , 0.9969861 , 0.99288964,\n",
       "       0.99285156, 0.99604475, 0.9928381 , 0.99720144, 0.9958668 ,\n",
       "       0.997186  , 0.9973998 , 0.9972869 , 0.996582  , 0.99774206,\n",
       "       0.9976495 , 0.99616635, 0.99690634, 0.8965528 , 0.9932366 ,\n",
       "       0.996912  , 0.98336095, 0.9946867 , 0.99186546, 0.9535528 ,\n",
       "       0.9975508 , 0.50924057, 0.9905233 , 0.997652  , 0.05243561,\n",
       "       0.9974256 , 0.995226  , 0.9976903 , 0.9974529 , 0.98112065,\n",
       "       0.9976191 , 0.9958139 , 0.99721587, 0.9961868 , 0.9951362 ,\n",
       "       0.9941016 , 0.9885661 , 0.99487853, 0.9950867 , 0.99774855,\n",
       "       0.99768937, 0.9958995 , 0.9967405 , 0.9973189 , 0.9961247 ,\n",
       "       0.9968118 , 0.99729615, 0.01328996, 0.9775729 , 0.9976388 ,\n",
       "       0.997584  , 0.99747497, 0.9972874 , 0.9971517 , 0.9975866 ,\n",
       "       0.99755955, 0.99276227, 0.2985303 , 0.9934683 , 0.98426914,\n",
       "       0.9976956 , 0.9699775 , 0.99722856, 0.9941552 , 0.03194463,\n",
       "       0.9490038 , 0.99764925, 0.9916317 , 0.9972007 , 0.9975048 ,\n",
       "       0.8863459 , 0.9799533 , 0.99757665, 0.99761295, 0.96958166,\n",
       "       0.9977418 , 0.9976252 , 0.9974969 , 0.99513924, 0.17811503,\n",
       "       0.99234456, 0.99726415, 0.9967259 , 0.0404046 , 0.9968671 ,\n",
       "       0.98030204, 0.9969217 , 0.9976667 , 0.89427966, 0.99678326,\n",
       "       0.98827004, 0.9977428 , 0.9931768 , 0.99715555, 0.99605006,\n",
       "       0.99610966, 0.7879177 , 0.99743325, 0.9976985 , 0.9974433 ,\n",
       "       0.9952997 , 0.99689263, 0.99751425, 0.9975293 , 0.99692875,\n",
       "       0.9975108 , 0.99757975, 0.02959484, 0.94234204, 0.9967435 ,\n",
       "       0.99763143, 0.9972512 , 0.75962305, 0.99739045, 0.9974232 ,\n",
       "       0.98688334, 0.9925645 , 0.997682  , 0.09236571, 0.9975829 ,\n",
       "       0.99772173, 0.9914705 , 0.987352  , 0.99646676, 0.9967359 ,\n",
       "       0.99722725, 0.9958248 , 0.9976394 , 0.9962895 , 0.9854348 ,\n",
       "       0.99197996, 0.9896952 , 0.9949551 , 0.98604333, 0.08834445,\n",
       "       0.9977017 , 0.9977254 , 0.99699956, 0.03307978, 0.13033469,\n",
       "       0.99647814, 0.986013  , 0.98242915, 0.9953968 , 0.99734676,\n",
       "       0.9963134 , 0.9966606 , 0.9938792 , 0.9972735 , 0.99762434,\n",
       "       0.9960641 , 0.9976623 , 0.2836033 , 0.99210924, 0.997054  ,\n",
       "       0.9876223 , 0.99392223, 0.99771845, 0.99767417, 0.9972042 ,\n",
       "       0.99753654, 0.9937343 , 0.9974426 , 0.99760973, 0.9976878 ,\n",
       "       0.55633265, 0.9975599 , 0.9936388 , 0.9975349 , 0.9972807 ,\n",
       "       0.9975407 , 0.98806727, 0.99766624, 0.9974843 , 0.99735475,\n",
       "       0.98974645, 0.93872565, 0.9959889 , 0.99524105, 0.9975146 ,\n",
       "       0.99736434, 0.19810313, 0.99696213, 0.99397016, 0.9974246 ,\n",
       "       0.9975399 , 0.9977617 , 0.99582505, 0.996912  , 0.96444285,\n",
       "       0.9973304 , 0.99598   , 0.9424086 , 0.9973139 , 0.99652785,\n",
       "       0.9977329 , 0.9918181 , 0.9806467 , 0.97873163, 0.9977276 ,\n",
       "       0.9934683 , 0.99755174, 0.99718815, 0.9973459 , 0.9975931 ,\n",
       "       0.7711148 , 0.9951563 , 0.99757177, 0.9976793 , 0.99773383,\n",
       "       0.9976814 , 0.9973385 , 0.61389035, 0.9975197 , 0.9976313 ,\n",
       "       0.39878932, 0.9974962 , 0.9973579 , 0.9967068 , 0.9977477 ,\n",
       "       0.9975146 , 0.997463  , 0.990708  , 0.9970552 , 0.99774915,\n",
       "       0.9976962 , 0.11014603, 0.9970944 , 0.9944549 , 0.9620035 ,\n",
       "       0.9977514 , 0.9975183 , 0.99536693, 0.9971631 , 0.9977471 ,\n",
       "       0.99759763, 0.99739   , 0.9971949 , 0.99739933, 0.99596834,\n",
       "       0.7234911 , 0.03559939, 0.99771285, 0.00636418, 0.9918806 ,\n",
       "       0.9976332 , 0.99754024, 0.9975062 , 0.99728906, 0.00967908,\n",
       "       0.9975606 , 0.99138016, 0.99240994, 0.99176335, 0.98565775,\n",
       "       0.9962126 , 0.99771583, 0.20154762, 0.9861574 , 0.99691725,\n",
       "       0.9940963 , 0.94120014, 0.98774475, 0.9976675 , 0.98198384,\n",
       "       0.99424416, 0.9973016 , 0.02295437, 0.9250487 , 0.9959    ,\n",
       "       0.99738234, 0.53922427, 0.03598104, 0.9975198 , 0.00682204,\n",
       "       0.99378973, 0.9927578 , 0.9976373 , 0.9975007 , 0.9970421 ,\n",
       "       0.0218849 , 0.9964018 , 0.97062296, 0.03071186, 0.9912077 ,\n",
       "       0.99772793, 0.9012199 , 0.9965754 , 0.99434054, 0.97379225,\n",
       "       0.99747926, 0.9962339 , 0.9821538 , 0.99727744, 0.98781383,\n",
       "       0.9933142 , 0.9975038 , 0.99697053, 0.29373503, 0.9965785 ,\n",
       "       0.9966832 , 0.997523  , 0.9976434 , 0.99591416, 0.9975987 ,\n",
       "       0.99745566, 0.99697495, 0.9894812 , 0.9917127 , 0.04503869,\n",
       "       0.99724704, 0.9977208 , 0.9969311 , 0.9898476 , 0.9635441 ,\n",
       "       0.94289863, 0.99762446, 0.9965874 , 0.96768725, 0.9972138 ,\n",
       "       0.9969574 , 0.99667716, 0.99768806, 0.9930561 , 0.58700323,\n",
       "       0.9975038 , 0.84215647, 0.9977387 , 0.77390444, 0.01016622,\n",
       "       0.9976737 , 0.9975304 , 0.99672925, 0.9734543 , 0.99733776,\n",
       "       0.99574775, 0.9950911 , 0.9975617 , 0.9818293 , 0.97858447,\n",
       "       0.96682304, 0.96373534, 0.99775094, 0.16980754, 0.99701595,\n",
       "       0.9974394 , 0.99681926, 0.9972427 , 0.99637395, 0.11028957,\n",
       "       0.99751043, 0.9860795 , 0.9976052 , 0.99739623, 0.9970162 ,\n",
       "       0.9972168 , 0.99620384, 0.99774504, 0.9959984 , 0.99739885,\n",
       "       0.9976561 , 0.9976064 , 0.99774265, 0.98971164, 0.99679357,\n",
       "       0.99766505, 0.9941472 , 0.99770254, 0.9969332 , 0.99776864,\n",
       "       0.9977204 , 0.99733585, 0.99661994, 0.9945608 , 0.9977315 ,\n",
       "       0.9973973 , 0.99297184, 0.99772626, 0.9974261 , 0.9964619 ,\n",
       "       0.90180486, 0.99723476, 0.99554056, 0.9975733 , 0.9952858 ,\n",
       "       0.99755585, 0.9977043 , 0.9944977 , 0.9925742 , 0.9972005 ,\n",
       "       0.9971686 , 0.9922443 , 0.42899722, 0.9976653 , 0.99764305,\n",
       "       0.8027966 , 0.97600573, 0.9956989 , 0.9976277 , 0.99770266,\n",
       "       0.9423572 , 0.99742186, 0.9976446 , 0.99768245, 0.6462281 ,\n",
       "       0.9965425 , 0.9960227 , 0.99758315, 0.99771047, 0.9974312 ,\n",
       "       0.9972234 , 0.978384  , 0.99760735, 0.9976833 , 0.9865261 ,\n",
       "       0.93331593, 0.99760455, 0.31346682, 0.9621244 , 0.01085249,\n",
       "       0.9924184 , 0.99615127, 0.99758995, 0.99746025, 0.02576283,\n",
       "       0.97776216, 0.996369  , 0.99410987, 0.9977356 , 0.99739707,\n",
       "       0.31649598, 0.37409478, 0.9950578 , 0.9976967 , 0.9977259 ,\n",
       "       0.0456675 , 0.9977259 , 0.990547  , 0.99307597, 0.9975352 ,\n",
       "       0.9970265 , 0.9961249 , 0.99757475, 0.99735355, 0.9967327 ,\n",
       "       0.997619  , 0.99745363, 0.9977023 , 0.9975318 , 0.99388015,\n",
       "       0.99674904, 0.9955622 , 0.9969325 , 0.99678874, 0.9965417 ,\n",
       "       0.6129695 , 0.9975038 , 0.9899156 , 0.17994158, 0.99769187,\n",
       "       0.9977266 , 0.9959496 , 0.9975146 , 0.00737961, 0.9976578 ,\n",
       "       0.01209174, 0.995226  , 0.9972211 , 0.00737337, 0.9976058 ,\n",
       "       0.99757725, 0.99207145, 0.9972204 , 0.99767905, 0.99750924,\n",
       "       0.9964341 , 0.9636706 , 0.99720335, 0.9971324 , 0.98857456,\n",
       "       0.99293655, 0.9976527 , 0.9678582 , 0.9977308 , 0.9977584 ,\n",
       "       0.9974026 , 0.99772984, 0.99772304, 0.99770015, 0.01592976,\n",
       "       0.9976897 , 0.9787634 , 0.10475857, 0.99771774, 0.9975485 ,\n",
       "       0.99723345, 0.99564916, 0.90105784, 0.99532866, 0.99775994,\n",
       "       0.9970796 , 0.9551918 , 0.99338937, 0.99759114, 0.99679524,\n",
       "       0.9918828 , 0.9934683 , 0.54439116, 0.99767274, 0.99650586,\n",
       "       0.99640465, 0.99770254, 0.9909589 , 0.9975515 , 0.9892347 ,\n",
       "       0.9919991 , 0.82323563, 0.40006584, 0.9893834 , 0.95432895,\n",
       "       0.99766916, 0.9966254 , 0.9910982 , 0.9910982 , 0.99757224,\n",
       "       0.99680674, 0.9973214 , 0.99566275, 0.9977621 , 0.99719316,\n",
       "       0.9962781 , 0.9963658 , 0.9973151 , 0.99764794, 0.9974981 ,\n",
       "       0.9970812 , 0.9963134 , 0.97836715, 0.9756941 , 0.9827488 ,\n",
       "       0.9928483 , 0.99145657, 0.99657285, 0.9914854 , 0.87096417,\n",
       "       0.9914854 , 0.9969453 , 0.99635124, 0.9975442 , 0.75395644,\n",
       "       0.99762005, 0.99343634, 0.98092353, 0.9950199 , 0.9926092 ,\n",
       "       0.9683032 , 0.99343634, 0.9975401 , 0.9976802 , 0.44576746,\n",
       "       0.99762565, 0.5733899 , 0.9910982 , 0.9929183 , 0.99758065,\n",
       "       0.99766195, 0.9934683 , 0.99637294, 0.99772424, 0.9963431 ,\n",
       "       0.9976835 , 0.98188007, 0.9975345 , 0.98418707, 0.99598   ,\n",
       "       0.9686998 , 0.9968246 , 0.9976802 , 0.9976088 , 0.9976343 ,\n",
       "       0.99598   , 0.99766904, 0.99048245, 0.9977297 , 0.95911205,\n",
       "       0.97666603, 0.9949175 , 0.9976513 , 0.99759334, 0.99774975,\n",
       "       0.9252858 , 0.4623123 , 0.99776506, 0.9972799 , 0.9910982 ,\n",
       "       0.9946293 , 0.99769175, 0.99159837, 0.997767  , 0.99746656,\n",
       "       0.997297  , 0.32979655, 0.9968213 , 0.9881627 , 0.9972881 ,\n",
       "       0.99772793, 0.0101399 , 0.99553007, 0.99658054, 0.9969927 ,\n",
       "       0.99378973, 0.99456364, 0.98850214, 0.9972523 , 0.99555594,\n",
       "       0.9975834 , 0.99769324, 0.9960179 , 0.8860973 , 0.9975533 ,\n",
       "       0.9964336 , 0.9926588 , 0.9976447 , 0.99750465, 0.99767417,\n",
       "       0.9919526 , 0.9715527 , 0.9976419 , 0.31177744, 0.99763095,\n",
       "       0.02677656, 0.99388266, 0.9447635 , 0.9971199 , 0.15960152,\n",
       "       0.9977336 , 0.99748355, 0.9831701 , 0.98290735, 0.48227474,\n",
       "       0.99735117, 0.07005298, 0.9973896 , 0.99774146, 0.9976914 ,\n",
       "       0.27085197, 0.3271689 , 0.9973152 , 0.9975358 , 0.68950766,\n",
       "       0.9975176 , 0.9950362 , 0.01073885, 0.99718   , 0.99760604,\n",
       "       0.9950589 , 0.9974337 , 0.99741274, 0.03083246, 0.98877865,\n",
       "       0.92470527, 0.9956286 , 0.8484111 , 0.995223  , 0.9976968 ,\n",
       "       0.99619734, 0.9955729 , 0.9974517 , 0.9976229 , 0.99691784,\n",
       "       0.9974776 , 0.9955205 , 0.9960396 , 0.9975133 , 0.7522403 ,\n",
       "       0.9932508 , 0.9512658 , 0.9976561 , 0.99716043, 0.9976567 ,\n",
       "       0.99749255, 0.99763227, 0.9973908 , 0.99721813, 0.9946689 ,\n",
       "       0.98730993, 0.99759346, 0.9977157 , 0.9976332 , 0.00845026,\n",
       "       0.9828882 , 0.99665415, 0.9830088 , 0.9976236 , 0.9973712 ,\n",
       "       0.99747545, 0.99745923, 0.9974623 , 0.99771714, 0.99650085,\n",
       "       0.8910578 , 0.9934683 , 0.99723   , 0.9973207 , 0.9944305 ,\n",
       "       0.9954705 , 0.9946207 , 0.12309773, 0.99530655, 0.9977652 ,\n",
       "       0.99567586, 0.9968952 , 0.99619055, 0.99475205, 0.9976119 ,\n",
       "       0.9930661 , 0.99714667, 0.99601436, 0.9975478 , 0.99762183,\n",
       "       0.9970594 , 0.99766773, 0.99569464, 0.00823945, 0.99745995,\n",
       "       0.9968616 , 0.99687386, 0.9971739 , 0.9976305 , 0.99769956,\n",
       "       0.00991304, 0.9970892 , 0.997561  , 0.93380237, 0.990789  ,\n",
       "       0.77215195, 0.9976508 , 0.9920432 , 0.99739397, 0.96762913,\n",
       "       0.92962235, 0.9977507 , 0.9976432 , 0.99235606, 0.9961145 ,\n",
       "       0.90903264, 0.9975127 , 0.9926602 , 0.9973018 , 0.99743986,\n",
       "       0.99749064, 0.9974903 , 0.032877  , 0.9977209 , 0.9977047 ,\n",
       "       0.99572444, 0.98037153, 0.99609417, 0.6616044 , 0.9976211 ,\n",
       "       0.997661  , 0.9861806 , 0.9974306 , 0.9966875 , 0.99774736,\n",
       "       0.99040157, 0.99717003, 0.9709825 , 0.99777126, 0.99775827,\n",
       "       0.9977228 , 0.9973688 , 0.9976852 , 0.99764377, 0.99736845,\n",
       "       0.87981844, 0.99776673, 0.9437872 , 0.99553585, 0.9972898 ,\n",
       "       0.99328905, 0.9976756 , 0.9976373 , 0.9552213 , 0.00880675,\n",
       "       0.99765897, 0.7246812 , 0.9975255 , 0.99772435, 0.99756795,\n",
       "       0.06203398, 0.99659246, 0.9968346 , 0.532449  , 0.99515414,\n",
       "       0.99773717, 0.9974517 , 0.997004  , 0.99495894, 0.99756587,\n",
       "       0.99771464, 0.95563334, 0.9976864 , 0.9975707 , 0.9976286 ,\n",
       "       0.99197406, 0.9952382 , 0.99421436, 0.99730587, 0.997666  ,\n",
       "       0.9973909 , 0.919331  , 0.99687034, 0.99331105, 0.9977108 ,\n",
       "       0.9976998 , 0.99743503, 0.99752027, 0.99574924, 0.9730804 ,\n",
       "       0.99776185, 0.9756294 , 0.9972517 , 0.99577737, 0.99688905,\n",
       "       0.9952341 , 0.9963051 , 0.9977404 , 0.99110764, 0.9964766 ,\n",
       "       0.99701893, 0.9976349 , 0.9977151 , 0.44853494, 0.99763453,\n",
       "       0.9972735 , 0.9971481 , 0.99773693, 0.9975943 , 0.9977416 ,\n",
       "       0.99708086, 0.9968362 , 0.5162101 , 0.997654  , 0.9977296 ,\n",
       "       0.99774593, 0.9977488 , 0.9962745 , 0.99228424, 0.02236815,\n",
       "       0.9976534 , 0.9949479 , 0.9976217 , 0.99760276, 0.99717593,\n",
       "       0.9951094 , 0.9834698 , 0.9940999 , 0.99103713, 0.9977125 ,\n",
       "       0.987457  , 0.9974783 , 0.9968803 , 0.9773572 , 0.9564222 ,\n",
       "       0.9971011 , 0.82888794, 0.9968777 , 0.99751496, 0.99522215,\n",
       "       0.9939454 , 0.9924395 , 0.9972193 , 0.99415004, 0.9963923 ,\n",
       "       0.9968676 , 0.97515434, 0.9962986 , 0.90775466, 0.935554  ,\n",
       "       0.9974778 , 0.99761707, 0.9971973 , 0.9970393 , 0.9976585 ,\n",
       "       0.9973459 , 0.99764997, 0.9868399 , 0.9576415 , 0.12730657,\n",
       "       0.99752253, 0.9975305 , 0.99644995, 0.96807843, 0.99770594,\n",
       "       0.997693  , 0.997735  , 0.9975447 , 0.88665026, 0.952903  ,\n",
       "       0.9975955 , 0.99629503, 0.9975713 , 0.99139273, 0.99164796,\n",
       "       0.98734945, 0.9969999 , 0.99647   , 0.9973742 , 0.99555933,\n",
       "       0.99773127, 0.9975616 , 0.9976578 , 0.99659926, 0.9975368 ,\n",
       "       0.99757606, 0.9972234 , 0.9968637 , 0.99635375, 0.99762124,\n",
       "       0.89264035, 0.99100727, 0.9965456 , 0.99684566, 0.997535  ,\n",
       "       0.9977138 , 0.99054927, 0.9926351 , 0.9424646 , 0.9954614 ,\n",
       "       0.21731001, 0.7695795 , 0.99726665, 0.99483913, 0.03508563,\n",
       "       0.99777764, 0.9970952 , 0.2350466 , 0.972392  , 0.00959173,\n",
       "       0.99371755, 0.01060423, 0.05574774, 0.99717075, 0.9505552 ,\n",
       "       0.9959694 , 0.9974583 , 0.9708929 , 0.9913838 , 0.9947314 ,\n",
       "       0.99742633, 0.9976515 , 0.99745375, 0.9977108 , 0.9977228 ,\n",
       "       0.9968027 , 0.997672  , 0.99770916, 0.99483263, 0.9976897 ,\n",
       "       0.99716175, 0.995691  , 0.99751747, 0.9974916 , 0.9974685 ,\n",
       "       0.9977482 , 0.9917579 , 0.26317516, 0.844515  , 0.9940891 ,\n",
       "       0.9960569 , 0.9974899 , 0.19726014, 0.39126593, 0.9969118 ,\n",
       "       0.9957975 , 0.99755645, 0.994672  , 0.9976    , 0.99765176,\n",
       "       0.9974482 , 0.9944036 , 0.9977126 , 0.9967353 , 0.99735767,\n",
       "       0.99771094, 0.99655896, 0.98274684, 0.99754554, 0.9975479 ],\n",
       "      dtype=float32)"
      ]
     },
     "execution_count": 58,
     "metadata": {},
     "output_type": "execute_result"
    }
   ],
   "source": [
    "predict_results"
   ]
  },
  {
   "cell_type": "code",
   "execution_count": 60,
   "id": "838b2ef1-b726-438b-a7c0-11f31590058e",
   "metadata": {},
   "outputs": [],
   "source": [
    "#değerlerimizi 0.5 ten küçük veya büyük olma durumuna göre 0 ve 1 e eşitledik.\n",
    "class_pred=np.array([1.0 if q>0.5 else 0.0 for q in  predict_results ])"
   ]
  },
  {
   "cell_type": "code",
   "execution_count": 61,
   "id": "ad11467b-26de-4d82-a7a8-9b13ac0c8ef4",
   "metadata": {
    "scrolled": true
   },
   "outputs": [
    {
     "data": {
      "text/plain": [
       "array([1., 1., 1., 1., 1., 1., 1., 1., 1., 1., 1., 1., 1., 1., 1., 1., 1.,\n",
       "       1., 1., 1., 1., 1., 1., 1., 1., 1., 1., 1., 1., 1., 1., 1., 1., 1.,\n",
       "       0., 1., 1., 1., 1., 1., 1., 1., 1., 1., 1., 1., 1., 1., 1., 1., 1.,\n",
       "       1., 1., 1., 1., 1., 1., 0., 1., 1., 1., 1., 1., 1., 1., 1., 1., 0.,\n",
       "       1., 1., 1., 1., 1., 1., 0., 1., 1., 1., 1., 1., 1., 1., 1., 1., 1.,\n",
       "       1., 1., 1., 1., 0., 1., 1., 1., 0., 1., 1., 1., 1., 1., 1., 1., 1.,\n",
       "       1., 1., 1., 1., 1., 1., 1., 1., 1., 1., 1., 1., 1., 1., 1., 0., 1.,\n",
       "       1., 1., 1., 1., 1., 1., 1., 1., 1., 0., 1., 1., 1., 1., 1., 1., 1.,\n",
       "       1., 1., 1., 1., 1., 1., 1., 1., 0., 1., 1., 1., 0., 0., 1., 1., 1.,\n",
       "       1., 1., 1., 1., 1., 1., 1., 1., 1., 0., 1., 1., 1., 1., 1., 1., 1.,\n",
       "       1., 1., 1., 1., 1., 1., 1., 1., 1., 1., 1., 1., 1., 1., 1., 1., 1.,\n",
       "       1., 1., 1., 1., 0., 1., 1., 1., 1., 1., 1., 1., 1., 1., 1., 1., 1.,\n",
       "       1., 1., 1., 1., 1., 1., 1., 1., 1., 1., 1., 1., 1., 1., 1., 1., 1.,\n",
       "       1., 1., 1., 1., 0., 1., 1., 1., 1., 1., 1., 1., 1., 1., 1., 0., 1.,\n",
       "       1., 1., 1., 1., 1., 1., 1., 1., 1., 1., 1., 1., 1., 0., 1., 0., 1.,\n",
       "       1., 1., 1., 1., 0., 1., 1., 1., 1., 1., 1., 1., 0., 1., 1., 1., 1.,\n",
       "       1., 1., 1., 1., 1., 0., 1., 1., 1., 1., 0., 1., 0., 1., 1., 1., 1.,\n",
       "       1., 0., 1., 1., 0., 1., 1., 1., 1., 1., 1., 1., 1., 1., 1., 1., 1.,\n",
       "       1., 1., 0., 1., 1., 1., 1., 1., 1., 1., 1., 1., 1., 0., 1., 1., 1.,\n",
       "       1., 1., 1., 1., 1., 1., 1., 1., 1., 1., 1., 1., 1., 1., 1., 1., 0.,\n",
       "       1., 1., 1., 1., 1., 1., 1., 1., 1., 1., 1., 1., 1., 0., 1., 1., 1.,\n",
       "       1., 1., 0., 1., 1., 1., 1., 1., 1., 1., 1., 1., 1., 1., 1., 1., 1.,\n",
       "       1., 1., 1., 1., 1., 1., 1., 1., 1., 1., 1., 1., 1., 1., 1., 1., 1.,\n",
       "       1., 1., 1., 1., 1., 1., 1., 1., 1., 1., 1., 0., 1., 1., 1., 1., 1.,\n",
       "       1., 1., 1., 1., 1., 1., 1., 1., 1., 1., 1., 1., 1., 1., 1., 1., 1.,\n",
       "       1., 1., 0., 1., 0., 1., 1., 1., 1., 0., 1., 1., 1., 1., 1., 0., 0.,\n",
       "       1., 1., 1., 0., 1., 1., 1., 1., 1., 1., 1., 1., 1., 1., 1., 1., 1.,\n",
       "       1., 1., 1., 1., 1., 1., 1., 1., 1., 0., 1., 1., 1., 1., 0., 1., 0.,\n",
       "       1., 1., 0., 1., 1., 1., 1., 1., 1., 1., 1., 1., 1., 1., 1., 1., 1.,\n",
       "       1., 1., 1., 1., 1., 1., 0., 1., 1., 0., 1., 1., 1., 1., 1., 1., 1.,\n",
       "       1., 1., 1., 1., 1., 1., 1., 1., 1., 1., 1., 1., 1., 1., 1., 1., 1.,\n",
       "       0., 1., 1., 1., 1., 1., 1., 1., 1., 1., 1., 1., 1., 1., 1., 1., 1.,\n",
       "       1., 1., 1., 1., 1., 1., 1., 1., 1., 1., 1., 1., 1., 1., 1., 1., 1.,\n",
       "       1., 1., 1., 1., 1., 1., 1., 1., 0., 1., 1., 1., 1., 1., 1., 1., 1.,\n",
       "       1., 1., 1., 1., 1., 1., 1., 1., 1., 1., 1., 1., 1., 1., 1., 1., 1.,\n",
       "       1., 1., 1., 1., 1., 1., 0., 1., 1., 1., 1., 1., 1., 1., 1., 1., 0.,\n",
       "       1., 1., 1., 1., 0., 1., 1., 1., 1., 1., 1., 1., 1., 1., 1., 1., 1.,\n",
       "       1., 1., 1., 1., 1., 1., 1., 1., 1., 0., 1., 0., 1., 1., 1., 0., 1.,\n",
       "       1., 1., 1., 0., 1., 0., 1., 1., 1., 0., 0., 1., 1., 1., 1., 1., 0.,\n",
       "       1., 1., 1., 1., 1., 0., 1., 1., 1., 1., 1., 1., 1., 1., 1., 1., 1.,\n",
       "       1., 1., 1., 1., 1., 1., 1., 1., 1., 1., 1., 1., 1., 1., 1., 1., 1.,\n",
       "       1., 1., 0., 1., 1., 1., 1., 1., 1., 1., 1., 1., 1., 1., 1., 1., 1.,\n",
       "       1., 1., 1., 0., 1., 1., 1., 1., 1., 1., 1., 1., 1., 1., 1., 1., 1.,\n",
       "       1., 1., 0., 1., 1., 1., 1., 1., 1., 0., 1., 1., 1., 1., 1., 1., 1.,\n",
       "       1., 1., 1., 1., 1., 1., 1., 1., 1., 1., 1., 1., 1., 1., 0., 1., 1.,\n",
       "       1., 1., 1., 1., 1., 1., 1., 1., 1., 1., 1., 1., 1., 1., 1., 1., 1.,\n",
       "       1., 1., 1., 1., 1., 1., 1., 1., 1., 1., 1., 1., 0., 1., 1., 1., 1.,\n",
       "       1., 0., 1., 1., 1., 1., 1., 1., 1., 1., 1., 1., 1., 1., 1., 1., 1.,\n",
       "       1., 1., 1., 1., 1., 1., 1., 1., 1., 1., 1., 1., 1., 1., 1., 1., 1.,\n",
       "       1., 1., 1., 1., 1., 1., 1., 1., 1., 1., 0., 1., 1., 1., 1., 1., 1.,\n",
       "       1., 1., 1., 1., 1., 1., 1., 1., 1., 0., 1., 1., 1., 1., 1., 1., 1.,\n",
       "       1., 1., 1., 1., 1., 1., 1., 1., 1., 1., 1., 1., 1., 1., 1., 1., 1.,\n",
       "       1., 1., 1., 1., 1., 1., 1., 1., 1., 1., 1., 1., 1., 1., 1., 0., 1.,\n",
       "       1., 1., 1., 1., 1., 1., 1., 1., 1., 1., 1., 1., 1., 1., 1., 1., 1.,\n",
       "       1., 1., 1., 1., 1., 1., 1., 1., 1., 1., 1., 1., 1., 1., 1., 1., 1.,\n",
       "       1., 1., 1., 1., 1., 0., 1., 1., 1., 0., 1., 1., 0., 1., 0., 1., 0.,\n",
       "       0., 1., 1., 1., 1., 1., 1., 1., 1., 1., 1., 1., 1., 1., 1., 1., 1.,\n",
       "       1., 1., 1., 1., 1., 1., 1., 1., 0., 1., 1., 1., 1., 0., 0., 1., 1.,\n",
       "       1., 1., 1., 1., 1., 1., 1., 1., 1., 1., 1., 1., 1., 1.])"
      ]
     },
     "execution_count": 61,
     "metadata": {},
     "output_type": "execute_result"
    }
   ],
   "source": [
    "class_pred"
   ]
  },
  {
   "cell_type": "code",
   "execution_count": 69,
   "id": "e84764b3-81fb-4172-8c0d-324d4486dbbe",
   "metadata": {},
   "outputs": [],
   "source": [
    "class_true=np.array(y_test[:1000])"
   ]
  },
  {
   "cell_type": "code",
   "execution_count": 70,
   "id": "fc3e4c4d-1ad9-499b-aad5-8e1a65b99bff",
   "metadata": {
    "scrolled": true
   },
   "outputs": [
    {
     "data": {
      "text/plain": [
       "array([1, 1, 1, 1, 1, 0, 1, 1, 1, 1, 1, 1, 1, 1, 1, 1, 1, 1, 1, 1, 1, 1,\n",
       "       1, 1, 1, 1, 1, 1, 1, 1, 1, 1, 1, 1, 0, 1, 1, 1, 1, 1, 1, 1, 1, 1,\n",
       "       1, 1, 1, 1, 1, 1, 1, 1, 1, 1, 1, 1, 1, 0, 1, 1, 1, 1, 1, 1, 1, 1,\n",
       "       1, 1, 1, 1, 1, 1, 1, 1, 1, 0, 1, 0, 1, 1, 1, 1, 1, 1, 1, 1, 1, 1,\n",
       "       1, 1, 1, 1, 1, 1, 1, 1, 1, 1, 1, 1, 1, 1, 1, 1, 1, 1, 1, 1, 1, 1,\n",
       "       1, 1, 1, 1, 1, 1, 1, 1, 1, 1, 1, 1, 1, 1, 1, 1, 1, 1, 1, 1, 1, 1,\n",
       "       0, 1, 1, 1, 0, 1, 1, 1, 1, 1, 1, 1, 0, 1, 1, 1, 0, 0, 1, 1, 0, 1,\n",
       "       1, 1, 1, 1, 1, 1, 1, 1, 1, 1, 1, 1, 1, 1, 1, 1, 1, 1, 1, 1, 1, 1,\n",
       "       1, 1, 1, 1, 1, 1, 1, 1, 1, 1, 1, 1, 1, 1, 1, 0, 1, 1, 1, 1, 1, 1,\n",
       "       1, 1, 1, 1, 1, 1, 1, 1, 1, 1, 1, 1, 1, 1, 1, 1, 1, 1, 1, 1, 1, 1,\n",
       "       1, 1, 1, 1, 1, 1, 1, 1, 1, 1, 1, 1, 1, 1, 1, 1, 1, 1, 1, 1, 1, 1,\n",
       "       1, 1, 1, 1, 1, 1, 1, 1, 0, 1, 1, 0, 1, 1, 1, 1, 1, 0, 1, 1, 1, 1,\n",
       "       1, 1, 1, 0, 1, 1, 1, 0, 1, 1, 1, 1, 1, 0, 1, 1, 1, 1, 1, 1, 0, 1,\n",
       "       1, 1, 1, 1, 0, 1, 1, 0, 1, 1, 0, 1, 1, 1, 1, 1, 1, 1, 1, 1, 1, 1,\n",
       "       0, 1, 1, 1, 1, 1, 1, 1, 1, 1, 0, 1, 1, 1, 1, 1, 1, 1, 1, 1, 1, 1,\n",
       "       1, 1, 1, 1, 1, 1, 1, 1, 0, 0, 1, 1, 1, 1, 1, 1, 1, 1, 1, 1, 1, 1,\n",
       "       1, 0, 1, 1, 1, 1, 1, 1, 1, 1, 1, 1, 0, 1, 1, 1, 1, 1, 1, 1, 1, 1,\n",
       "       1, 1, 1, 1, 1, 1, 1, 1, 1, 1, 1, 1, 1, 1, 1, 1, 1, 1, 1, 1, 1, 1,\n",
       "       1, 1, 1, 1, 1, 1, 1, 1, 1, 1, 1, 1, 1, 1, 1, 1, 1, 1, 1, 1, 1, 1,\n",
       "       1, 1, 1, 1, 1, 1, 1, 1, 1, 0, 1, 0, 1, 1, 1, 1, 0, 1, 1, 1, 1, 1,\n",
       "       0, 1, 1, 1, 1, 1, 1, 1, 1, 1, 1, 1, 1, 1, 1, 1, 1, 1, 1, 1, 1, 1,\n",
       "       1, 1, 1, 1, 1, 1, 1, 1, 1, 1, 1, 0, 1, 0, 1, 1, 0, 1, 1, 1, 1, 1,\n",
       "       1, 1, 1, 1, 1, 1, 1, 1, 1, 1, 1, 1, 1, 1, 1, 1, 1, 0, 0, 1, 1, 1,\n",
       "       1, 1, 1, 1, 1, 1, 1, 1, 1, 1, 1, 0, 1, 1, 1, 1, 1, 1, 1, 1, 1, 0,\n",
       "       1, 1, 1, 1, 1, 1, 1, 1, 1, 1, 1, 1, 1, 1, 1, 1, 1, 1, 1, 1, 1, 1,\n",
       "       1, 1, 1, 1, 1, 1, 1, 1, 1, 1, 1, 1, 1, 1, 1, 1, 1, 1, 1, 0, 1, 1,\n",
       "       1, 0, 1, 1, 1, 1, 1, 1, 1, 1, 1, 1, 1, 1, 1, 1, 1, 1, 1, 1, 1, 1,\n",
       "       1, 1, 1, 1, 1, 1, 1, 1, 1, 1, 1, 1, 1, 1, 1, 1, 1, 1, 1, 1, 1, 1,\n",
       "       0, 1, 1, 1, 1, 1, 1, 1, 1, 1, 1, 1, 1, 1, 1, 1, 1, 1, 1, 1, 1, 1,\n",
       "       1, 1, 1, 1, 1, 1, 1, 1, 1, 0, 1, 1, 1, 0, 1, 1, 1, 1, 1, 1, 1, 0,\n",
       "       1, 1, 0, 1, 1, 1, 1, 1, 0, 1, 1, 0, 1, 1, 1, 1, 1, 1, 1, 1, 1, 1,\n",
       "       1, 1, 1, 1, 1, 1, 1, 1, 0, 1, 1, 1, 1, 1, 1, 1, 1, 0, 1, 1, 1, 1,\n",
       "       1, 1, 1, 1, 1, 1, 1, 1, 1, 1, 1, 1, 1, 0, 1, 1, 1, 1, 1, 1, 1, 1,\n",
       "       1, 1, 1, 1, 1, 1, 1, 0, 1, 1, 1, 1, 1, 1, 0, 1, 1, 1, 1, 1, 1, 1,\n",
       "       1, 1, 1, 1, 1, 1, 1, 0, 1, 1, 1, 1, 1, 1, 0, 1, 1, 1, 1, 1, 1, 1,\n",
       "       1, 1, 1, 1, 1, 1, 1, 1, 1, 1, 1, 1, 1, 1, 1, 1, 1, 1, 1, 1, 1, 1,\n",
       "       1, 1, 0, 1, 1, 1, 1, 1, 0, 1, 1, 0, 1, 1, 1, 1, 1, 1, 1, 0, 1, 1,\n",
       "       1, 1, 1, 1, 1, 1, 1, 1, 1, 1, 1, 1, 1, 1, 1, 1, 1, 1, 1, 1, 1, 1,\n",
       "       1, 1, 1, 1, 1, 1, 1, 1, 1, 1, 1, 1, 1, 1, 1, 1, 0, 1, 1, 1, 1, 1,\n",
       "       1, 0, 1, 1, 1, 1, 1, 1, 1, 1, 1, 1, 1, 1, 1, 1, 1, 1, 1, 1, 1, 1,\n",
       "       1, 1, 1, 1, 1, 1, 1, 1, 1, 1, 1, 1, 1, 1, 1, 1, 1, 1, 1, 1, 1, 1,\n",
       "       1, 1, 1, 1, 1, 1, 1, 1, 1, 1, 1, 1, 1, 1, 1, 1, 1, 1, 1, 1, 1, 1,\n",
       "       1, 1, 1, 1, 1, 1, 1, 1, 1, 1, 1, 1, 1, 1, 1, 1, 1, 0, 1, 1, 0, 1,\n",
       "       1, 0, 1, 0, 0, 0, 0, 1, 1, 1, 1, 1, 1, 1, 1, 1, 1, 1, 1, 1, 1, 1,\n",
       "       1, 1, 1, 1, 1, 1, 1, 1, 1, 0, 1, 1, 1, 1, 1, 1, 1, 1, 1, 1, 1, 1,\n",
       "       1, 1, 1, 1, 1, 1, 1, 0, 1, 1])"
      ]
     },
     "execution_count": 70,
     "metadata": {},
     "output_type": "execute_result"
    }
   ],
   "source": [
    "class_true"
   ]
  },
  {
   "cell_type": "code",
   "execution_count": 71,
   "id": "ec6449b7-8b82-403e-98ac-2d9113930ade",
   "metadata": {},
   "outputs": [],
   "source": [
    "incorrect=  np.where(class_true!=class_pred)"
   ]
  },
  {
   "cell_type": "code",
   "execution_count": 86,
   "id": "a6a8882f-46fe-46d9-8768-cab9cacb68d6",
   "metadata": {},
   "outputs": [],
   "source": [
    "dx=len(incorrect[0])"
   ]
  },
  {
   "cell_type": "code",
   "execution_count": 90,
   "id": "33e88057-3e5b-4a22-8bbf-ef6ccd6f3a4e",
   "metadata": {},
   "outputs": [],
   "source": [
    "dx=incorrect[0]"
   ]
  },
  {
   "cell_type": "code",
   "execution_count": 92,
   "id": "f0a5d207-5dca-4815-bc42-a47f4f6987e1",
   "metadata": {},
   "outputs": [
    {
     "data": {
      "text/plain": [
       "162"
      ]
     },
     "execution_count": 92,
     "metadata": {},
     "output_type": "execute_result"
    }
   ],
   "source": [
    "dx[12]"
   ]
  },
  {
   "cell_type": "code",
   "execution_count": 96,
   "id": "0b406117-01cd-45b7-83b2-5aba7374e7b0",
   "metadata": {},
   "outputs": [],
   "source": [
    "text=x_test[dx[12]]"
   ]
  },
  {
   "cell_type": "code",
   "execution_count": 100,
   "id": "81e7ba20-d79e-4ab3-abc7-5cae854509f3",
   "metadata": {},
   "outputs": [
    {
     "data": {
      "text/plain": [
       "'iki kedi de bile hiç koku yok'"
      ]
     },
     "execution_count": 100,
     "metadata": {},
     "output_type": "execute_result"
    }
   ],
   "source": [
    "x_test[162]"
   ]
  },
  {
   "cell_type": "code",
   "execution_count": 98,
   "id": "3d60b7b5-abd7-4889-a6fb-a62399e48f02",
   "metadata": {},
   "outputs": [
    {
     "data": {
      "text/plain": [
       "'iki kedi de bile hiç koku yok'"
      ]
     },
     "execution_count": 98,
     "metadata": {},
     "output_type": "execute_result"
    }
   ],
   "source": [
    "tokens_to_string(x_test_sequens[162])"
   ]
  },
  {
   "cell_type": "code",
   "execution_count": 102,
   "id": "fcc7218a-1bba-40f6-9da7-d3aa503cbc34",
   "metadata": {},
   "outputs": [
    {
     "data": {
      "text/plain": [
       "0.2836033"
      ]
     },
     "execution_count": 102,
     "metadata": {},
     "output_type": "execute_result"
    }
   ],
   "source": [
    "predict_results[162]"
   ]
  },
  {
   "cell_type": "code",
   "execution_count": 104,
   "id": "fd01d1eb-e4dd-487d-a359-0279fe0fc412",
   "metadata": {},
   "outputs": [
    {
     "data": {
      "text/plain": [
       "1"
      ]
     },
     "execution_count": 104,
     "metadata": {},
     "output_type": "execute_result"
    }
   ],
   "source": [
    "y_test[162]"
   ]
  },
  {
   "cell_type": "code",
   "execution_count": 105,
   "id": "b27c3537-cba2-42cd-aaca-44c4681a796b",
   "metadata": {},
   "outputs": [],
   "source": [
    "text1 = \"bu ürün çok iyi herkese tavsiye ederim\"\n",
    "text2 = \"kargo çok hızlı aynı gün elime geçti\"\n",
    "text3 = \"büyük bir hayal kırıklığı yaşadım bu ürün bu markaya yakışmamış\"\n",
    "text4 = \"mükemmel\"\n",
    "text5 = \"tasarımı harika ancak kargo çok geç geldi ve ürün açılmıştı tavsiye etmem\"\n",
    "text6 = \"hiç resimde gösterildiği gibi değil\"\n",
    "text7 = \"kötü yorumlar gözümü korkutmuştu ancak hiçbir sorun yaşamadım teşekkürler\"\n",
    "text8 = \"hiç bu kadar kötü bir satıcıya denk gelmemiştim ürünü geri iade ediyorum\"\n",
    "text9 = \"tam bir fiyat performans ürünü\"\n",
    "text10 = \"beklediğim gibi çıkmadı\"\n",
    "texts = [text1, text2, text3, text4, text5, text6, text7, text8, text9, text10]"
   ]
  },
  {
   "cell_type": "code",
   "execution_count": 106,
   "id": "7d1bc8b0-95eb-4aa3-9ed2-db4e78b29ca2",
   "metadata": {},
   "outputs": [],
   "source": [
    "tokens= tokenizer.texts_to_sequences(texts)"
   ]
  },
  {
   "cell_type": "code",
   "execution_count": 107,
   "id": "1b0da851-9c15-4360-b39a-351c60d3401a",
   "metadata": {},
   "outputs": [],
   "source": [
    "tokens_pad= pad_sequences(tokens,maxlen=59)"
   ]
  },
  {
   "cell_type": "code",
   "execution_count": 109,
   "id": "40c24677-b88b-4e47-8787-d2563abd1d51",
   "metadata": {},
   "outputs": [
    {
     "name": "stdout",
     "output_type": "stream",
     "text": [
      "1/1 [==============================] - 0s 27ms/step\n"
     ]
    }
   ],
   "source": [
    "last_results=model.predict(tokens_pad)"
   ]
  },
  {
   "cell_type": "code",
   "execution_count": 110,
   "id": "8f8eba4b-218d-4fe7-999b-3e3395811dc8",
   "metadata": {},
   "outputs": [],
   "source": [
    "pred=np.array([1.0 if q>0.5 else 0.0 for q in last_results ])"
   ]
  },
  {
   "cell_type": "code",
   "execution_count": 111,
   "id": "9542246c-d112-40e2-a5b1-f39a48c23e85",
   "metadata": {},
   "outputs": [
    {
     "data": {
      "text/plain": [
       "array([1., 1., 0., 1., 0., 0., 1., 0., 1., 0.])"
      ]
     },
     "execution_count": 111,
     "metadata": {},
     "output_type": "execute_result"
    }
   ],
   "source": [
    "pred"
   ]
  },
  {
   "cell_type": "code",
   "execution_count": null,
   "id": "007539cc-f4fc-4b25-a4a3-c59fcb8ffb35",
   "metadata": {},
   "outputs": [],
   "source": []
  }
 ],
 "metadata": {
  "kernelspec": {
   "display_name": "Python 3 (ipykernel)",
   "language": "python",
   "name": "python3"
  },
  "language_info": {
   "codemirror_mode": {
    "name": "ipython",
    "version": 3
   },
   "file_extension": ".py",
   "mimetype": "text/x-python",
   "name": "python",
   "nbconvert_exporter": "python",
   "pygments_lexer": "ipython3",
   "version": "3.10.15"
  }
 },
 "nbformat": 4,
 "nbformat_minor": 5
}
